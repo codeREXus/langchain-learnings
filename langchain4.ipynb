{
  "nbformat": 4,
  "nbformat_minor": 0,
  "metadata": {
    "colab": {
      "provenance": [],
      "authorship_tag": "ABX9TyPHtqMAFh5FT5K+7NTDvgvq",
      "include_colab_link": true
    },
    "kernelspec": {
      "name": "python3",
      "display_name": "Python 3"
    },
    "language_info": {
      "name": "python"
    }
  },
  "cells": [
    {
      "cell_type": "markdown",
      "metadata": {
        "id": "view-in-github",
        "colab_type": "text"
      },
      "source": [
        "<a href=\"https://colab.research.google.com/github/codeREXus/langchain-learnings/blob/main/langchain4.ipynb\" target=\"_parent\"><img src=\"https://colab.research.google.com/assets/colab-badge.svg\" alt=\"Open In Colab\"/></a>"
      ]
    },
    {
      "cell_type": "code",
      "execution_count": 1,
      "metadata": {
        "colab": {
          "base_uri": "https://localhost:8080/"
        },
        "id": "MF8PyuVBLOb5",
        "outputId": "59cc5ff8-ae7a-46ff-89d9-d8aec30f564d"
      },
      "outputs": [
        {
          "output_type": "stream",
          "name": "stdout",
          "text": [
            "Successfully installed sentence-transformers-4.1.0\n"
          ]
        }
      ],
      "source": [
        "!pip install sentence-transformers==4.1.0 | tail -n 1"
      ]
    },
    {
      "cell_type": "code",
      "source": [
        "import math\n",
        "import numpy as np\n",
        "import scipy\n",
        "import torch\n",
        "from sentence_transformers import SentenceTransformer"
      ],
      "metadata": {
        "id": "3MGCih_YLlWV"
      },
      "execution_count": 2,
      "outputs": []
    },
    {
      "cell_type": "code",
      "source": [
        "documents = [\n",
        "    'Bugs introduced by the intern had to be squashed by the lead developer.',\n",
        "    'Bugs found by the quality assurance engineer were difficult to debug.',\n",
        "    'Bugs are common throughout the warm summer months, according to the entomologist.',\n",
        "    'Bugs, in particular spiders, are extensively studied by arachnologists.'\n",
        "]"
      ],
      "metadata": {
        "id": "WMPoEx7hhoA3"
      },
      "execution_count": 3,
      "outputs": []
    },
    {
      "cell_type": "code",
      "source": [
        "model = SentenceTransformer('paraphrase-MiniLM-L6-v2')"
      ],
      "metadata": {
        "id": "rqQGRAVghtei"
      },
      "execution_count": null,
      "outputs": []
    },
    {
      "cell_type": "code",
      "source": [
        "embed = model.encode(documents)"
      ],
      "metadata": {
        "id": "QIhZaX1Hh6Zi"
      },
      "execution_count": 5,
      "outputs": []
    },
    {
      "cell_type": "code",
      "source": [
        "embed.shape"
      ],
      "metadata": {
        "colab": {
          "base_uri": "https://localhost:8080/"
        },
        "id": "3zH7P9lXizO1",
        "outputId": "2caca3b1-129c-457f-cb35-02f3a174d283"
      },
      "execution_count": 6,
      "outputs": [
        {
          "output_type": "execute_result",
          "data": {
            "text/plain": [
              "(4, 384)"
            ]
          },
          "metadata": {},
          "execution_count": 6
        }
      ]
    },
    {
      "cell_type": "markdown",
      "source": [
        "#Eucledian distance\n"
      ],
      "metadata": {
        "id": "Sn3vSeV3X0qj"
      }
    },
    {
      "cell_type": "code",
      "source": [
        "def eucledian_distance(x,y):\n",
        "  sqsum=sum((x-y)**2 for x,y in zip(x,y))\n",
        "  return math.sqrt(sqsum)"
      ],
      "metadata": {
        "id": "XnvfvhSdi8BP"
      },
      "execution_count": 7,
      "outputs": []
    },
    {
      "cell_type": "code",
      "source": [
        "eucledian_distance(embed[0],embed[3])"
      ],
      "metadata": {
        "colab": {
          "base_uri": "https://localhost:8080/"
        },
        "id": "cYWRubwljuWy",
        "outputId": "a85ddd91-5c59-4402-e92d-a8bfdf16a6a5"
      },
      "execution_count": 8,
      "outputs": [
        {
          "output_type": "execute_result",
          "data": {
            "text/plain": [
              "7.155784092025114"
            ]
          },
          "metadata": {},
          "execution_count": 8
        }
      ]
    },
    {
      "cell_type": "code",
      "source": [
        "l2_dist_manual = np.zeros([4,4])\n",
        "for i in range(embed.shape[0]):\n",
        "    for j in range(embed.shape[0]):\n",
        "         if j > i:\n",
        "            l2_dist_manual[i,j] = eucledian_distance(embed[i], embed[j])\n",
        "         elif i > j:\n",
        "            l2_dist_manual[i,j] = l2_dist_manual[j,i]\n",
        "\n",
        "l2_dist_manual"
      ],
      "metadata": {
        "colab": {
          "base_uri": "https://localhost:8080/"
        },
        "id": "lXdlTtAklPwr",
        "outputId": "94f0e375-e57c-4ca0-ae44-8d12195fa0a3"
      },
      "execution_count": 9,
      "outputs": [
        {
          "output_type": "execute_result",
          "data": {
            "text/plain": [
              "array([[0.        , 5.96178921, 7.33939755, 7.15578409],\n",
              "       [5.96178921, 0.        , 7.7686165 , 7.39359022],\n",
              "       [7.33939755, 7.7686165 , 0.        , 5.91992832],\n",
              "       [7.15578409, 7.39359022, 5.91992832, 0.        ]])"
            ]
          },
          "metadata": {},
          "execution_count": 9
        }
      ]
    },
    {
      "cell_type": "code",
      "source": [
        "l2_dist_scipy = scipy.spatial.distance.cdist(embed, embed, 'euclidean')\n",
        "l2_dist_scipy"
      ],
      "metadata": {
        "colab": {
          "base_uri": "https://localhost:8080/"
        },
        "id": "UfKylXbcl48u",
        "outputId": "9f8d43ee-173b-4a32-831f-dcae5793a2c7"
      },
      "execution_count": 10,
      "outputs": [
        {
          "output_type": "execute_result",
          "data": {
            "text/plain": [
              "array([[0.        , 5.9617894 , 7.33940012, 7.15578259],\n",
              "       [5.9617894 , 0.        , 7.768616  , 7.39359112],\n",
              "       [7.33940012, 7.768616  , 0.        , 5.919928  ],\n",
              "       [7.15578259, 7.39359112, 5.919928  , 0.        ]])"
            ]
          },
          "metadata": {},
          "execution_count": 10
        }
      ]
    },
    {
      "cell_type": "code",
      "source": [
        "np.allclose(l2_dist_manual, l2_dist_scipy)"
      ],
      "metadata": {
        "colab": {
          "base_uri": "https://localhost:8080/"
        },
        "id": "jfWpAxKEnZUO",
        "outputId": "a5311250-f27a-485a-96c4-c5d591cfc1e2"
      },
      "execution_count": 11,
      "outputs": [
        {
          "output_type": "execute_result",
          "data": {
            "text/plain": [
              "True"
            ]
          },
          "metadata": {},
          "execution_count": 11
        }
      ]
    },
    {
      "cell_type": "markdown",
      "source": [
        "#dot proouct"
      ],
      "metadata": {
        "id": "FnrmLafkX46R"
      }
    },
    {
      "cell_type": "code",
      "source": [
        "def dot_product(x,y):\n",
        "  return sum(x*y for x,y in zip(x,y))"
      ],
      "metadata": {
        "id": "Cwue4AdnnfKy"
      },
      "execution_count": 12,
      "outputs": []
    },
    {
      "cell_type": "code",
      "source": [
        "mat=np.dot(embed[0],embed[1])\n",
        "dot_dist=-mat\n",
        "print(dot_dist)"
      ],
      "metadata": {
        "colab": {
          "base_uri": "https://localhost:8080/"
        },
        "id": "gCFtpUKUbqal",
        "outputId": "50ad56e4-1002-49e4-cc07-0740d10ee5e2"
      },
      "execution_count": 27,
      "outputs": [
        {
          "output_type": "stream",
          "name": "stdout",
          "text": [
            "-18.535406\n"
          ]
        }
      ]
    },
    {
      "cell_type": "code",
      "source": [
        "mat=np.matmul(embed[1],embed[0])\n",
        "dot_dist=-mat\n",
        "print(dot_dist)"
      ],
      "metadata": {
        "colab": {
          "base_uri": "https://localhost:8080/"
        },
        "id": "NA_LMl5wb3k7",
        "outputId": "4dc353fe-78ee-4714-84e8-3186500cc8de"
      },
      "execution_count": 30,
      "outputs": [
        {
          "output_type": "stream",
          "name": "stdout",
          "text": [
            "-18.535406\n"
          ]
        }
      ]
    },
    {
      "cell_type": "code",
      "source": [
        "print(dot_product(embed[0],embed[3]))"
      ],
      "metadata": {
        "colab": {
          "base_uri": "https://localhost:8080/"
        },
        "id": "yrJxzLF6YMzJ",
        "outputId": "a46b7ac9-52b9-4017-ad87-e9b6ccb85694"
      },
      "execution_count": 20,
      "outputs": [
        {
          "output_type": "stream",
          "name": "stdout",
          "text": [
            "7.8309326\n"
          ]
        }
      ]
    },
    {
      "cell_type": "code",
      "source": [
        "dot_product_manual=np.zeros([4,4])\n",
        "for i in range(embed.shape[0]):\n",
        "  for j in range(embed.shape[0]):\n",
        "    dot_product_manual[i,j]=dot_product(embed[i],embed[j])\n",
        "dot_product_manual"
      ],
      "metadata": {
        "colab": {
          "base_uri": "https://localhost:8080/"
        },
        "id": "IaLl0i6rYSHs",
        "outputId": "b4fa1b7c-1c34-4f4c-9bf5-4d92550b6baa"
      },
      "execution_count": 24,
      "outputs": [
        {
          "output_type": "execute_result",
          "data": {
            "text/plain": [
              "array([[33.74442291, 18.5354023 ,  8.56981659,  7.83093262],\n",
              "       [18.5354023 , 38.86933136,  7.88997459,  8.66340351],\n",
              "       [ 8.56981659,  7.88997459, 37.26202011, 17.66957092],\n",
              "       [ 7.83093262,  8.66340351, 17.66957092, 33.12267685]])"
            ]
          },
          "metadata": {},
          "execution_count": 24
        }
      ]
    },
    {
      "cell_type": "markdown",
      "source": [
        "#Cosine Similarity"
      ],
      "metadata": {
        "id": "X6Y5kofEcNKn"
      }
    },
    {
      "cell_type": "code",
      "source": [
        "l2_norms = np.sqrt(np.sum(embed**2, axis=1))\n",
        "l2_norms"
      ],
      "metadata": {
        "colab": {
          "base_uri": "https://localhost:8080/"
        },
        "id": "qvwOUtsyYyga",
        "outputId": "e66f9ce1-d018-41dc-81f4-72d3b1cd0efd"
      },
      "execution_count": 31,
      "outputs": [
        {
          "output_type": "execute_result",
          "data": {
            "text/plain": [
              "array([5.808995 , 6.234527 , 6.1042614, 5.7552304], dtype=float32)"
            ]
          },
          "metadata": {},
          "execution_count": 31
        }
      ]
    },
    {
      "cell_type": "code",
      "source": [
        "l2_norms_reshaped = l2_norms.reshape(-1,1)\n",
        "l2_norms_reshaped"
      ],
      "metadata": {
        "colab": {
          "base_uri": "https://localhost:8080/"
        },
        "id": "JaSDMKahddlO",
        "outputId": "bae8f261-ec56-4680-e5c7-1be58e6563b5"
      },
      "execution_count": 32,
      "outputs": [
        {
          "output_type": "execute_result",
          "data": {
            "text/plain": [
              "array([[5.808995 ],\n",
              "       [6.234527 ],\n",
              "       [6.1042614],\n",
              "       [5.7552304]], dtype=float32)"
            ]
          },
          "metadata": {},
          "execution_count": 32
        }
      ]
    },
    {
      "cell_type": "code",
      "source": [
        "normalized_embeddings_manual = embed/l2_norms_reshaped\n",
        "normalized_embeddings_manual"
      ],
      "metadata": {
        "colab": {
          "base_uri": "https://localhost:8080/"
        },
        "id": "oTaIPTPBdkhm",
        "outputId": "1899f9d8-002e-4ecc-bfcb-452b413bba0d"
      },
      "execution_count": 35,
      "outputs": [
        {
          "output_type": "execute_result",
          "data": {
            "text/plain": [
              "array([[-0.03925702, -0.04243019, -0.00054966, ...,  0.07837524,\n",
              "         0.10917504,  0.0925298 ],\n",
              "       [-0.05740863, -0.0514618 ,  0.02560462, ..., -0.01130905,\n",
              "         0.14876868,  0.0551402 ],\n",
              "       [ 0.03326025, -0.04406527,  0.02667829, ..., -0.03219229,\n",
              "        -0.00553689,  0.09757369],\n",
              "       [-0.00740943, -0.07944357, -0.01655276, ..., -0.10083128,\n",
              "         0.02996996,  0.01586011]], dtype=float32)"
            ]
          },
          "metadata": {},
          "execution_count": 35
        }
      ]
    },
    {
      "cell_type": "code",
      "source": [
        "normalized_embeddings_torch = torch.nn.functional.normalize(\n",
        "    torch.from_numpy(embed)\n",
        ").numpy()\n",
        "normalized_embeddings_torch"
      ],
      "metadata": {
        "colab": {
          "base_uri": "https://localhost:8080/"
        },
        "id": "hPq5KYkMdyu2",
        "outputId": "e7c2b3bc-418c-4a57-ecd5-9e5d0906a01c"
      },
      "execution_count": 38,
      "outputs": [
        {
          "output_type": "execute_result",
          "data": {
            "text/plain": [
              "array([[-0.03925702, -0.04243019, -0.00054966, ...,  0.07837524,\n",
              "         0.10917504,  0.0925298 ],\n",
              "       [-0.05740864, -0.0514618 ,  0.02560462, ..., -0.01130905,\n",
              "         0.1487687 ,  0.05514021],\n",
              "       [ 0.03326024, -0.04406527,  0.02667829, ..., -0.03219229,\n",
              "        -0.00553689,  0.09757368],\n",
              "       [-0.00740943, -0.07944357, -0.01655276, ..., -0.10083128,\n",
              "         0.02996996,  0.01586011]], dtype=float32)"
            ]
          },
          "metadata": {},
          "execution_count": 38
        }
      ]
    },
    {
      "cell_type": "code",
      "source": [
        "np.allclose(normalized_embeddings_manual, normalized_embeddings_torch)"
      ],
      "metadata": {
        "colab": {
          "base_uri": "https://localhost:8080/"
        },
        "id": "t6vtV8T4nAp3",
        "outputId": "4302d3cc-8098-430a-f195-100bfa743bf5"
      },
      "execution_count": 39,
      "outputs": [
        {
          "output_type": "execute_result",
          "data": {
            "text/plain": [
              "True"
            ]
          },
          "metadata": {},
          "execution_count": 39
        }
      ]
    },
    {
      "cell_type": "code",
      "source": [
        "dot_product(normalized_embeddings_manual[0], normalized_embeddings_manual[3])"
      ],
      "metadata": {
        "colab": {
          "base_uri": "https://localhost:8080/"
        },
        "id": "F4vMDgCfnKAJ",
        "outputId": "c6973870-b2d3-4a22-a00f-840e8dc42950"
      },
      "execution_count": 42,
      "outputs": [
        {
          "output_type": "execute_result",
          "data": {
            "text/plain": [
              "np.float32(0.23423398)"
            ]
          },
          "metadata": {},
          "execution_count": 42
        }
      ]
    },
    {
      "cell_type": "code",
      "source": [
        "cosine_similarity_manual = np.empty([4,4])\n",
        "for i in range(normalized_embeddings_manual.shape[0]):\n",
        "    for j in range(normalized_embeddings_manual.shape[0]):\n",
        "        cosine_similarity_manual[i,j] = dot_product(\n",
        "            normalized_embeddings_manual[i],\n",
        "            normalized_embeddings_manual[j]\n",
        "        )\n",
        "\n",
        "cosine_similarity_manual"
      ],
      "metadata": {
        "colab": {
          "base_uri": "https://localhost:8080/"
        },
        "id": "ERrLgwR2nQ2l",
        "outputId": "1db51c3d-6988-43cc-e4d7-c174eb049124"
      },
      "execution_count": 51,
      "outputs": [
        {
          "output_type": "execute_result",
          "data": {
            "text/plain": [
              "array([[0.99999994, 0.51179701, 0.24167825, 0.23423398],\n",
              "       [0.51179701, 1.        , 0.20731877, 0.2414474 ],\n",
              "       [0.24167825, 0.20731877, 1.00000072, 0.50295597],\n",
              "       [0.23423398, 0.2414474 , 0.50295597, 0.99999994]])"
            ]
          },
          "metadata": {},
          "execution_count": 51
        }
      ]
    },
    {
      "cell_type": "code",
      "source": [],
      "metadata": {
        "id": "0sZlzK5qniNf"
      },
      "execution_count": null,
      "outputs": []
    }
  ]
}