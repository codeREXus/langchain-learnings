{
  "nbformat": 4,
  "nbformat_minor": 0,
  "metadata": {
    "colab": {
      "provenance": [],
      "gpuType": "T4",
      "authorship_tag": "ABX9TyPiloEpX6VreTeWQ0MT6OlF",
      "include_colab_link": true
    },
    "kernelspec": {
      "name": "python3",
      "display_name": "Python 3"
    },
    "language_info": {
      "name": "python"
    },
    "accelerator": "GPU"
  },
  "cells": [
    {
      "cell_type": "markdown",
      "metadata": {
        "id": "view-in-github",
        "colab_type": "text"
      },
      "source": [
        "<a href=\"https://colab.research.google.com/github/codeREXus/langchain-learnings/blob/main/mini_projs/image_captioning.ipynb\" target=\"_parent\"><img src=\"https://colab.research.google.com/assets/colab-badge.svg\" alt=\"Open In Colab\"/></a>"
      ]
    },
    {
      "cell_type": "markdown",
      "source": [
        "# 🖼️ Image Captioning with Salesforce BLIP-2\n",
        "\n",
        "In this mini project, we build an **Image Captioning System** using the **Salesforce BLIP-2 (Bootstrapping Language-Image Pre-training v2)** model.  \n",
        "BLIP-2 is an advanced vision-language model that connects **images and natural language**, capable of generating high-quality descriptive captions for input images.  \n",
        "\n",
        "We integrate the model with a simple **Gradio interface** to make it interactive and user-friendly. 🚀\n",
        "\n",
        "---\n",
        "\n",
        "## 📌 Project Overview\n",
        "- Load the **BLIP-2 pre-trained model** (`blip2-opt-2.7b`) from Hugging Face Transformers.\n",
        "- Process input images and feed them to the model.\n",
        "- Generate a **natural language caption** describing the image.\n",
        "- Deploy the model in a **Gradio app** for easy interaction.\n",
        "\n",
        "---\n",
        "\n",
        "## 🛠️ Tools & Libraries Used\n",
        "- **[Transformers](https://huggingface.co/docs/transformers/index)** – For BLIP-2 model & processor  \n",
        "- **[Torch](https://pytorch.org/)** – Deep learning backend  \n",
        "- **[Gradio](https://www.gradio.app/)** – Web interface for interaction  \n",
        "\n"
      ],
      "metadata": {
        "id": "rawURlw0Efpb"
      }
    },
    {
      "cell_type": "code",
      "source": [
        "%%capture\n",
        "!pip install transformers bitsandbytes torch gradio"
      ],
      "metadata": {
        "id": "7hCcWc03uT6c"
      },
      "execution_count": 3,
      "outputs": []
    },
    {
      "cell_type": "code",
      "execution_count": null,
      "metadata": {
        "id": "GWS58nLGuQ0i"
      },
      "outputs": [],
      "source": [
        "import gradio as gr\n",
        "import torch\n",
        "from transformers import Blip2Processor, Blip2ForConditionalGeneration\n",
        "\n",
        "# Load processor & model\n",
        "processor = Blip2Processor.from_pretrained(\"Salesforce/blip2-opt-2.7b\")\n",
        "model = Blip2ForConditionalGeneration.from_pretrained(\n",
        "    \"Salesforce/blip2-opt-2.7b\",\n",
        "    device_map=\"auto\",      # let HF decide placement\n",
        "    load_in_8bit=True       # quantized mode, saves VRAM\n",
        ")\n",
        "\n",
        "def generate_caption(image):\n",
        "    # Prepare inputs and send to the same device as the model\n",
        "    inputs = processor(images=image, return_tensors=\"pt\").to(model.device)\n",
        "\n",
        "    # Generate caption\n",
        "    outputs = model.generate(**inputs, max_new_tokens=30)\n",
        "    caption = processor.decode(outputs[0], skip_special_tokens=True)\n",
        "    return caption\n",
        "\n",
        "def caption_image(image):\n",
        "    \"\"\"\n",
        "    Takes a PIL Image input and returns a caption.\n",
        "    \"\"\"\n",
        "    try:\n",
        "        return generate_caption(image)\n",
        "    except Exception as e:\n",
        "        return f\"An error occurred: {str(e)}\"\n",
        "\n",
        "# Gradio UI\n",
        "iface = gr.Interface(\n",
        "    fn=caption_image,\n",
        "    inputs=gr.Image(type=\"pil\"),\n",
        "    outputs=\"text\",\n",
        "    title=\"Image Captioning with BLIP-2\",\n",
        "    description=\"Upload an image to generate a caption.\"\n",
        ")\n",
        "\n",
        "# Use 0.0.0.0 for Colab (127.0.0.1 won't work there)\n",
        "iface.launch(server_name=\"127.0.0.1\")"
      ]
    },
    {
      "cell_type": "code",
      "source": [],
      "metadata": {
        "id": "QcPSATXD5O8c"
      },
      "execution_count": null,
      "outputs": []
    }
  ]
}