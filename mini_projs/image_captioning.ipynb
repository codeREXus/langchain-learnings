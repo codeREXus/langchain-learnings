{
  "nbformat": 4,
  "nbformat_minor": 0,
  "metadata": {
    "colab": {
      "provenance": [],
      "authorship_tag": "ABX9TyNwqLJpM/+PEF7SUFgFWccY",
      "include_colab_link": true
    },
    "kernelspec": {
      "name": "python3",
      "display_name": "Python 3"
    },
    "language_info": {
      "name": "python"
    }
  },
  "cells": [
    {
      "cell_type": "markdown",
      "metadata": {
        "id": "view-in-github",
        "colab_type": "text"
      },
      "source": [
        "<a href=\"https://colab.research.google.com/github/codeREXus/langchain-learnings/blob/main/mini_projs/image_captioning.ipynb\" target=\"_parent\"><img src=\"https://colab.research.google.com/assets/colab-badge.svg\" alt=\"Open In Colab\"/></a>"
      ]
    },
    {
      "cell_type": "markdown",
      "source": [
        "# 🖼️ Image Captioning with Salesforce BLIP\n",
        "\n",
        "In this mini project, we build an **Image Captioning System** that can automatically generate descriptive captions for any given image.  \n",
        "We leverage the **Salesforce BLIP (Bootstrapping Language-Image Pre-training) model** and create a simple **Gradio interface** for interactive use.\n",
        "\n",
        "---\n",
        "\n",
        "## 📌 Project Overview\n",
        "- Load the **BLIP pre-trained model** from Hugging Face Transformers.\n",
        "- Provide an input image.\n",
        "- Generate a **natural language caption** that describes the image.\n",
        "- Deploy a **Gradio demo** for an easy-to-use interface.\n",
        "\n",
        "---\n",
        "\n",
        "## 🛠️ Tools & Libraries Used\n",
        "- **[Transformers](https://huggingface.co/docs/transformers/index)** – For BLIP model & processor  \n",
        "- **[Torch](https://pytorch.org/)** – Deep learning backend  \n",
        "- **[Gradio](https://www.gradio.app/)** – Web interface for interaction  \n",
        "\n",
        "\n"
      ],
      "metadata": {
        "id": "rawURlw0Efpb"
      }
    },
    {
      "cell_type": "code",
      "source": [
        "%%capture\n",
        "!pip install transformers torch gradio"
      ],
      "metadata": {
        "id": "7hCcWc03uT6c"
      },
      "execution_count": null,
      "outputs": []
    },
    {
      "cell_type": "code",
      "execution_count": null,
      "metadata": {
        "id": "GWS58nLGuQ0i"
      },
      "outputs": [],
      "source": [
        "import gradio as gr\n",
        "from transformers import BlipProcessor, BlipForConditionalGeneration\n",
        "from PIL import Image\n",
        "\n",
        "processor = BlipProcessor.from_pretrained(\"Salesforce/blip-image-captioning-base\")\n",
        "model = BlipForConditionalGeneration.from_pretrained(\"Salesforce/blip-image-captioning-base\")\n",
        "\n",
        "def generate_caption(image):\n",
        "    # Now directly using the PIL Image object\n",
        "    inputs = processor(images=image, return_tensors=\"pt\")\n",
        "    outputs = model.generate(**inputs)\n",
        "    caption = processor.decode(outputs[0], skip_special_tokens=True)\n",
        "    return caption\n",
        "\n",
        "def caption_image(image):\n",
        "    \"\"\"\n",
        "    Takes a PIL Image input and returns a caption.\n",
        "    \"\"\"\n",
        "    try:\n",
        "        caption = generate_caption(image)\n",
        "        return caption\n",
        "    except Exception as e:\n",
        "        return f\"An error occurred: {str(e)}\"\n",
        "\n",
        "iface = gr.Interface(\n",
        "    fn=caption_image,\n",
        "    inputs=gr.Image(type=\"pil\"),\n",
        "    outputs=\"text\",\n",
        "    title=\"Image Captioning with BLIP\",\n",
        "    description=\"Upload an image to generate a caption.\"\n",
        ")\n",
        "\n",
        "iface.launch(server_name=\"127.0.0.1\", server_port= 7860)"
      ]
    }
  ]
}