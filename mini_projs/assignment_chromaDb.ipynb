{
  "nbformat": 4,
  "nbformat_minor": 0,
  "metadata": {
    "colab": {
      "provenance": [],
      "authorship_tag": "ABX9TyNXZx+dq58bJk1KAD4MZXDI",
      "include_colab_link": true
    },
    "kernelspec": {
      "name": "python3",
      "display_name": "Python 3"
    },
    "language_info": {
      "name": "python"
    }
  },
  "cells": [
    {
      "cell_type": "markdown",
      "metadata": {
        "id": "view-in-github",
        "colab_type": "text"
      },
      "source": [
        "<a href=\"https://colab.research.google.com/github/codeREXus/langchain-learnings/blob/main/mini_projs/assignment_chromaDb.ipynb\" target=\"_parent\"><img src=\"https://colab.research.google.com/assets/colab-badge.svg\" alt=\"Open In Colab\"/></a>"
      ]
    },
    {
      "cell_type": "code",
      "execution_count": 1,
      "metadata": {
        "colab": {
          "base_uri": "https://localhost:8080/"
        },
        "id": "4_8EiUVePew8",
        "outputId": "272ddce7-5fad-46b1-8ba2-0e7ab3da2959"
      },
      "outputs": [
        {
          "output_type": "stream",
          "name": "stdout",
          "text": [
            "\u001b[?25l     \u001b[90m━━━━━━━━━━━━━━━━━━━━━━━━━━━━━━━━━━━━━━━━\u001b[0m \u001b[32m0.0/67.3 kB\u001b[0m \u001b[31m?\u001b[0m eta \u001b[36m-:--:--\u001b[0m\r\u001b[2K     \u001b[90m━━━━━━━━━━━━━━━━━━━━━━━━━━━━━━━━━━━━━━━━\u001b[0m \u001b[32m67.3/67.3 kB\u001b[0m \u001b[31m2.3 MB/s\u001b[0m eta \u001b[36m0:00:00\u001b[0m\n",
            "\u001b[?25h  Installing build dependencies ... \u001b[?25l\u001b[?25hdone\n",
            "  Getting requirements to build wheel ... \u001b[?25l\u001b[?25hdone\n",
            "  Preparing metadata (pyproject.toml) ... \u001b[?25l\u001b[?25hdone\n",
            "\u001b[2K   \u001b[90m━━━━━━━━━━━━━━━━━━━━━━━━━━━━━━━━━━━━━━━━\u001b[0m \u001b[32m19.3/19.3 MB\u001b[0m \u001b[31m82.2 MB/s\u001b[0m eta \u001b[36m0:00:00\u001b[0m\n",
            "\u001b[2K   \u001b[90m━━━━━━━━━━━━━━━━━━━━━━━━━━━━━━━━━━━━━━━━\u001b[0m \u001b[32m94.9/94.9 kB\u001b[0m \u001b[31m5.6 MB/s\u001b[0m eta \u001b[36m0:00:00\u001b[0m\n",
            "\u001b[2K   \u001b[90m━━━━━━━━━━━━━━━━━━━━━━━━━━━━━━━━━━━━━━━━\u001b[0m \u001b[32m278.2/278.2 kB\u001b[0m \u001b[31m17.6 MB/s\u001b[0m eta \u001b[36m0:00:00\u001b[0m\n",
            "\u001b[2K   \u001b[90m━━━━━━━━━━━━━━━━━━━━━━━━━━━━━━━━━━━━━━━━\u001b[0m \u001b[32m2.0/2.0 MB\u001b[0m \u001b[31m62.6 MB/s\u001b[0m eta \u001b[36m0:00:00\u001b[0m\n",
            "\u001b[2K   \u001b[90m━━━━━━━━━━━━━━━━━━━━━━━━━━━━━━━━━━━━━━━━\u001b[0m \u001b[32m103.3/103.3 kB\u001b[0m \u001b[31m6.4 MB/s\u001b[0m eta \u001b[36m0:00:00\u001b[0m\n",
            "\u001b[2K   \u001b[90m━━━━━━━━━━━━━━━━━━━━━━━━━━━━━━━━━━━━━━━━\u001b[0m \u001b[32m17.3/17.3 MB\u001b[0m \u001b[31m77.4 MB/s\u001b[0m eta \u001b[36m0:00:00\u001b[0m\n",
            "\u001b[2K   \u001b[90m━━━━━━━━━━━━━━━━━━━━━━━━━━━━━━━━━━━━━━━━\u001b[0m \u001b[32m137.3/137.3 kB\u001b[0m \u001b[31m8.6 MB/s\u001b[0m eta \u001b[36m0:00:00\u001b[0m\n",
            "\u001b[2K   \u001b[90m━━━━━━━━━━━━━━━━━━━━━━━━━━━━━━━━━━━━━━━━\u001b[0m \u001b[32m510.8/510.8 kB\u001b[0m \u001b[31m28.1 MB/s\u001b[0m eta \u001b[36m0:00:00\u001b[0m\n",
            "\u001b[2K   \u001b[90m━━━━━━━━━━━━━━━━━━━━━━━━━━━━━━━━━━━━━━━━\u001b[0m \u001b[32m71.5/71.5 kB\u001b[0m \u001b[31m3.6 MB/s\u001b[0m eta \u001b[36m0:00:00\u001b[0m\n",
            "\u001b[2K   \u001b[90m━━━━━━━━━━━━━━━━━━━━━━━━━━━━━━━━━━━━━━━━\u001b[0m \u001b[32m128.4/128.4 kB\u001b[0m \u001b[31m7.4 MB/s\u001b[0m eta \u001b[36m0:00:00\u001b[0m\n",
            "\u001b[2K   \u001b[90m━━━━━━━━━━━━━━━━━━━━━━━━━━━━━━━━━━━━━━━━\u001b[0m \u001b[32m4.7/4.7 MB\u001b[0m \u001b[31m81.4 MB/s\u001b[0m eta \u001b[36m0:00:00\u001b[0m\n",
            "\u001b[2K   \u001b[90m━━━━━━━━━━━━━━━━━━━━━━━━━━━━━━━━━━━━━━━━\u001b[0m \u001b[32m452.2/452.2 kB\u001b[0m \u001b[31m25.8 MB/s\u001b[0m eta \u001b[36m0:00:00\u001b[0m\n",
            "\u001b[2K   \u001b[90m━━━━━━━━━━━━━━━━━━━━━━━━━━━━━━━━━━━━━━━━\u001b[0m \u001b[32m46.0/46.0 kB\u001b[0m \u001b[31m2.4 MB/s\u001b[0m eta \u001b[36m0:00:00\u001b[0m\n",
            "\u001b[2K   \u001b[90m━━━━━━━━━━━━━━━━━━━━━━━━━━━━━━━━━━━━━━━━\u001b[0m \u001b[32m86.8/86.8 kB\u001b[0m \u001b[31m4.3 MB/s\u001b[0m eta \u001b[36m0:00:00\u001b[0m\n",
            "\u001b[?25h  Building wheel for pypika (pyproject.toml) ... \u001b[?25l\u001b[?25hdone\n",
            "\u001b[31mERROR: pip's dependency resolver does not currently take into account all the packages that are installed. This behaviour is the source of the following dependency conflicts.\n",
            "google-adk 1.15.1 requires starlette<1.0.0,>=0.46.2, but you have starlette 0.45.3 which is incompatible.\u001b[0m\u001b[31m\n",
            "\u001b[2K   \u001b[90m━━━━━━━━━━━━━━━━━━━━━━━━━━━━━━━━━━━━━━━━\u001b[0m \u001b[32m345.7/345.7 kB\u001b[0m \u001b[31m6.5 MB/s\u001b[0m eta \u001b[36m0:00:00\u001b[0m\n",
            "\u001b[?25h"
          ]
        }
      ],
      "source": [
        "!pip install -q chromaDB==1.0.12\n",
        "!pip install -q sentence-transformers==4.1.0"
      ]
    },
    {
      "cell_type": "code",
      "source": [
        "import chromadb\n",
        "from chromadb.utils import embedding_functions\n",
        "\n",
        "ef =embedding_functions.SentenceTransformerEmbeddingFunction(\n",
        "    model_name=\"all-MiniLM-L6-v2\"\n",
        ")\n",
        "\n",
        "client = chromadb.Client()"
      ],
      "metadata": {
        "colab": {
          "base_uri": "https://localhost:8080/"
        },
        "id": "M1I22eB6QF_d",
        "outputId": "ba0b21e0-8b0f-45dd-d6fc-dbd6d9bca348"
      },
      "execution_count": 1,
      "outputs": [
        {
          "output_type": "stream",
          "name": "stderr",
          "text": [
            "/usr/local/lib/python3.12/dist-packages/huggingface_hub/utils/_auth.py:94: UserWarning: \n",
            "The secret `HF_TOKEN` does not exist in your Colab secrets.\n",
            "To authenticate with the Hugging Face Hub, create a token in your settings tab (https://huggingface.co/settings/tokens), set it as secret in your Google Colab and restart your session.\n",
            "You will be able to reuse this secret in all of your notebooks.\n",
            "Please note that authentication is recommended but still optional to access public models or datasets.\n",
            "  warnings.warn(\n",
            "ERROR:chromadb.telemetry.product.posthog:Failed to send telemetry event ClientStartEvent: capture() takes 1 positional argument but 3 were given\n"
          ]
        }
      ]
    },
    {
      "cell_type": "code",
      "source": [
        "def main():\n",
        "  try:\n",
        "    pass\n",
        "  except Exception as e:\n",
        "    print(e)"
      ],
      "metadata": {
        "id": "ogasicvLQriC"
      },
      "execution_count": 14,
      "outputs": []
    },
    {
      "cell_type": "code",
      "source": [
        "collection_name='employee'"
      ],
      "metadata": {
        "id": "FPUfkFcxR_8U"
      },
      "execution_count": 15,
      "outputs": []
    },
    {
      "cell_type": "code",
      "source": [
        "collection = client.create_collection(\n",
        "    name=collection_name,\n",
        "    metadata={\n",
        "        'description':'for employee analysis'\n",
        "    },\n",
        "    configuration={\n",
        "        'hnsw':{\n",
        "            'space':'cosine'\n",
        "        },\n",
        "        'embedding_function':ef\n",
        "    }\n",
        "\n",
        ")\n",
        "print(f'collection created: {collection_name}')"
      ],
      "metadata": {
        "colab": {
          "base_uri": "https://localhost:8080/",
          "height": 373
        },
        "id": "M-uQPn6wRwkR",
        "outputId": "b6ae20c5-9b5d-48c7-cf7c-77c4af534d53"
      },
      "execution_count": 16,
      "outputs": [
        {
          "output_type": "stream",
          "name": "stderr",
          "text": [
            "ERROR:chromadb.telemetry.product.posthog:Failed to send telemetry event ClientCreateCollectionEvent: capture() takes 1 positional argument but 3 were given\n"
          ]
        },
        {
          "output_type": "error",
          "ename": "InternalError",
          "evalue": "Collection [employee] already exists",
          "traceback": [
            "\u001b[0;31m---------------------------------------------------------------------------\u001b[0m",
            "\u001b[0;31mInternalError\u001b[0m                             Traceback (most recent call last)",
            "\u001b[0;32m/tmp/ipython-input-984101007.py\u001b[0m in \u001b[0;36m<cell line: 0>\u001b[0;34m()\u001b[0m\n\u001b[0;32m----> 1\u001b[0;31m collection = client.create_collection(\n\u001b[0m\u001b[1;32m      2\u001b[0m     \u001b[0mname\u001b[0m\u001b[0;34m=\u001b[0m\u001b[0mcollection_name\u001b[0m\u001b[0;34m,\u001b[0m\u001b[0;34m\u001b[0m\u001b[0;34m\u001b[0m\u001b[0m\n\u001b[1;32m      3\u001b[0m     metadata={\n\u001b[1;32m      4\u001b[0m         \u001b[0;34m'description'\u001b[0m\u001b[0;34m:\u001b[0m\u001b[0;34m'for employee analysis'\u001b[0m\u001b[0;34m\u001b[0m\u001b[0;34m\u001b[0m\u001b[0m\n\u001b[1;32m      5\u001b[0m     },\n",
            "\u001b[0;32m/usr/local/lib/python3.12/dist-packages/chromadb/api/client.py\u001b[0m in \u001b[0;36mcreate_collection\u001b[0;34m(self, name, configuration, metadata, embedding_function, data_loader, get_or_create)\u001b[0m\n\u001b[1;32m    166\u001b[0m             \u001b[0mconfiguration\u001b[0m\u001b[0;34m[\u001b[0m\u001b[0;34m\"embedding_function\"\u001b[0m\u001b[0;34m]\u001b[0m \u001b[0;34m=\u001b[0m \u001b[0membedding_function\u001b[0m\u001b[0;34m\u001b[0m\u001b[0;34m\u001b[0m\u001b[0m\n\u001b[1;32m    167\u001b[0m \u001b[0;34m\u001b[0m\u001b[0m\n\u001b[0;32m--> 168\u001b[0;31m         model = self._server.create_collection(\n\u001b[0m\u001b[1;32m    169\u001b[0m             \u001b[0mname\u001b[0m\u001b[0;34m=\u001b[0m\u001b[0mname\u001b[0m\u001b[0;34m,\u001b[0m\u001b[0;34m\u001b[0m\u001b[0;34m\u001b[0m\u001b[0m\n\u001b[1;32m    170\u001b[0m             \u001b[0mmetadata\u001b[0m\u001b[0;34m=\u001b[0m\u001b[0mmetadata\u001b[0m\u001b[0;34m,\u001b[0m\u001b[0;34m\u001b[0m\u001b[0;34m\u001b[0m\u001b[0m\n",
            "\u001b[0;32m/usr/local/lib/python3.12/dist-packages/chromadb/api/rust.py\u001b[0m in \u001b[0;36mcreate_collection\u001b[0;34m(self, name, configuration, metadata, get_or_create, tenant, database)\u001b[0m\n\u001b[1;32m    225\u001b[0m             \u001b[0mconfiguration_json_str\u001b[0m \u001b[0;34m=\u001b[0m \u001b[0;32mNone\u001b[0m\u001b[0;34m\u001b[0m\u001b[0;34m\u001b[0m\u001b[0m\n\u001b[1;32m    226\u001b[0m \u001b[0;34m\u001b[0m\u001b[0m\n\u001b[0;32m--> 227\u001b[0;31m         collection = self.bindings.create_collection(\n\u001b[0m\u001b[1;32m    228\u001b[0m             \u001b[0mname\u001b[0m\u001b[0;34m,\u001b[0m \u001b[0mconfiguration_json_str\u001b[0m\u001b[0;34m,\u001b[0m \u001b[0mmetadata\u001b[0m\u001b[0;34m,\u001b[0m \u001b[0mget_or_create\u001b[0m\u001b[0;34m,\u001b[0m \u001b[0mtenant\u001b[0m\u001b[0;34m,\u001b[0m \u001b[0mdatabase\u001b[0m\u001b[0;34m\u001b[0m\u001b[0;34m\u001b[0m\u001b[0m\n\u001b[1;32m    229\u001b[0m         )\n",
            "\u001b[0;31mInternalError\u001b[0m: Collection [employee] already exists"
          ]
        }
      ]
    },
    {
      "cell_type": "code",
      "source": [
        "employees = [\n",
        "  {\n",
        "      \"id\": \"employee_1\",\n",
        "      \"name\": \"John Doe\",\n",
        "      \"experience\": 5,\n",
        "      \"department\": \"Engineering\",\n",
        "      \"role\": \"Software Engineer\",\n",
        "      \"skills\": \"Python, JavaScript, React, Node.js, databases\",\n",
        "      \"location\": \"New York\",\n",
        "      \"employment_type\": \"Full-time\"\n",
        "  },\n",
        "  {\n",
        "      \"id\": \"employee_2\",\n",
        "      \"name\": \"Jane Smith\",\n",
        "      \"experience\": 8,\n",
        "      \"department\": \"Marketing\",\n",
        "      \"role\": \"Marketing Manager\",\n",
        "      \"skills\": \"Digital marketing, SEO, content strategy, analytics, social media\",\n",
        "      \"location\": \"Los Angeles\",\n",
        "      \"employment_type\": \"Full-time\"\n",
        "  },\n",
        "  {\n",
        "      \"id\": \"employee_3\",\n",
        "      \"name\": \"Alice Johnson\",\n",
        "      \"experience\": 3,\n",
        "      \"department\": \"HR\",\n",
        "      \"role\": \"HR Coordinator\",\n",
        "      \"skills\": \"Recruitment, employee relations, HR policies, training programs\",\n",
        "      \"location\": \"Chicago\",\n",
        "      \"employment_type\": \"Full-time\"\n",
        "  },\n",
        "  {\n",
        "      \"id\": \"employee_4\",\n",
        "      \"name\": \"Michael Brown\",\n",
        "      \"experience\": 12,\n",
        "      \"department\": \"Engineering\",\n",
        "      \"role\": \"Senior Software Engineer\",\n",
        "      \"skills\": \"Java, Spring Boot, microservices, cloud architecture, DevOps\",\n",
        "      \"location\": \"San Francisco\",\n",
        "      \"employment_type\": \"Full-time\"\n",
        "  },\n",
        "  {\n",
        "      \"id\": \"employee_5\",\n",
        "      \"name\": \"Emily Wilson\",\n",
        "      \"experience\": 2,\n",
        "      \"department\": \"Marketing\",\n",
        "      \"role\": \"Marketing Assistant\",\n",
        "      \"skills\": \"Content creation, email marketing, market research, social media management\",\n",
        "      \"location\": \"Austin\",\n",
        "      \"employment_type\": \"Part-time\"\n",
        "  },\n",
        "  {\n",
        "      \"id\": \"employee_6\",\n",
        "      \"name\": \"David Lee\",\n",
        "      \"experience\": 15,\n",
        "      \"department\": \"Engineering\",\n",
        "      \"role\": \"Engineering Manager\",\n",
        "      \"skills\": \"Team leadership, project management, software architecture, mentoring\",\n",
        "      \"location\": \"Seattle\",\n",
        "      \"employment_type\": \"Full-time\"\n",
        "  },\n",
        "  {\n",
        "      \"id\": \"employee_7\",\n",
        "      \"name\": \"Sarah Clark\",\n",
        "      \"experience\": 8,\n",
        "      \"department\": \"HR\",\n",
        "      \"role\": \"HR Manager\",\n",
        "      \"skills\": \"Performance management, compensation planning, policy development, conflict resolution\",\n",
        "      \"location\": \"Boston\",\n",
        "      \"employment_type\": \"Full-time\"\n",
        "  },\n",
        "  {\n",
        "      \"id\": \"employee_8\",\n",
        "      \"name\": \"Chris Evans\",\n",
        "      \"experience\": 20,\n",
        "      \"department\": \"Engineering\",\n",
        "      \"role\": \"Senior Architect\",\n",
        "      \"skills\": \"System design, distributed systems, cloud platforms, technical strategy\",\n",
        "      \"location\": \"New York\",\n",
        "      \"employment_type\": \"Full-time\"\n",
        "  },\n",
        "  {\n",
        "      \"id\": \"employee_9\",\n",
        "      \"name\": \"Jessica Taylor\",\n",
        "      \"experience\": 4,\n",
        "      \"department\": \"Marketing\",\n",
        "      \"role\": \"Marketing Specialist\",\n",
        "      \"skills\": \"Brand management, advertising campaigns, customer analytics, creative strategy\",\n",
        "      \"location\": \"Miami\",\n",
        "      \"employment_type\": \"Full-time\"\n",
        "  },\n",
        "  {\n",
        "      \"id\": \"employee_10\",\n",
        "      \"name\": \"Alex Rodriguez\",\n",
        "      \"experience\": 18,\n",
        "      \"department\": \"Engineering\",\n",
        "      \"role\": \"Lead Software Engineer\",\n",
        "      \"skills\": \"Full-stack development, React, Python, machine learning, data science\",\n",
        "      \"location\": \"Denver\",\n",
        "      \"employment_type\": \"Full-time\"\n",
        "  },\n",
        "  {\n",
        "      \"id\": \"employee_11\",\n",
        "      \"name\": \"Hannah White\",\n",
        "      \"experience\": 6,\n",
        "      \"department\": \"HR\",\n",
        "      \"role\": \"HR Business Partner\",\n",
        "      \"skills\": \"Strategic HR, organizational development, change management, employee engagement\",\n",
        "      \"location\": \"Portland\",\n",
        "      \"employment_type\": \"Full-time\"\n",
        "  },\n",
        "  {\n",
        "      \"id\": \"employee_12\",\n",
        "      \"name\": \"Kevin Martinez\",\n",
        "      \"experience\": 10,\n",
        "      \"department\": \"Engineering\",\n",
        "      \"role\": \"DevOps Engineer\",\n",
        "      \"skills\": \"Docker, Kubernetes, AWS, CI/CD pipelines, infrastructure automation\",\n",
        "      \"location\": \"Phoenix\",\n",
        "      \"employment_type\": \"Full-time\"\n",
        "  },\n",
        "  {\n",
        "      \"id\": \"employee_13\",\n",
        "      \"name\": \"Rachel Brown\",\n",
        "      \"experience\": 7,\n",
        "      \"department\": \"Marketing\",\n",
        "      \"role\": \"Marketing Director\",\n",
        "      \"skills\": \"Strategic marketing, team leadership, budget management, campaign optimization\",\n",
        "      \"location\": \"Atlanta\",\n",
        "      \"employment_type\": \"Full-time\"\n",
        "  },\n",
        "  {\n",
        "      \"id\": \"employee_14\",\n",
        "      \"name\": \"Matthew Garcia\",\n",
        "      \"experience\": 3,\n",
        "      \"department\": \"Engineering\",\n",
        "      \"role\": \"Junior Software Engineer\",\n",
        "      \"skills\": \"JavaScript, HTML/CSS, basic backend development, learning frameworks\",\n",
        "      \"location\": \"Dallas\",\n",
        "      \"employment_type\": \"Full-time\"\n",
        "  },\n",
        "  {\n",
        "      \"id\": \"employee_15\",\n",
        "      \"name\": \"Olivia Moore\",\n",
        "      \"experience\": 12,\n",
        "      \"department\": \"Engineering\",\n",
        "      \"role\": \"Principal Engineer\",\n",
        "      \"skills\": \"Technical leadership, system architecture, performance optimization, mentoring\",\n",
        "      \"location\": \"San Francisco\",\n",
        "      \"employment_type\": \"Full-time\"\n",
        "  },\n",
        "]"
      ],
      "metadata": {
        "id": "gtwr27CRTFqx"
      },
      "execution_count": 17,
      "outputs": []
    },
    {
      "cell_type": "code",
      "source": [
        "employee_documents = []\n",
        "for employee in employees:\n",
        "    document = f\"{employee['role']} with {employee['experience']} years of experience in {employee['department']}. \"\n",
        "    document += f\"Skills: {employee['skills']}. Located in {employee['location']}. \"\n",
        "    document += f\"Employment type: {employee['employment_type']}.\"\n",
        "    employee_documents.append(document)"
      ],
      "metadata": {
        "id": "cIerIMbAUNon"
      },
      "execution_count": 18,
      "outputs": []
    },
    {
      "cell_type": "code",
      "source": [
        "employee_documents[1]"
      ],
      "metadata": {
        "colab": {
          "base_uri": "https://localhost:8080/",
          "height": 53
        },
        "id": "17m8ewTSUOoy",
        "outputId": "00cb19cc-ca13-45ab-cf8d-42d30509adab"
      },
      "execution_count": 19,
      "outputs": [
        {
          "output_type": "execute_result",
          "data": {
            "text/plain": [
              "'Marketing Manager with 8 years of experience in Marketing. Skills: Digital marketing, SEO, content strategy, analytics, social media. Located in Los Angeles. Employment type: Full-time.'"
            ],
            "application/vnd.google.colaboratory.intrinsic+json": {
              "type": "string"
            }
          },
          "metadata": {},
          "execution_count": 19
        }
      ]
    },
    {
      "cell_type": "code",
      "source": [
        "collection.add(\n",
        "    ids=[employee['id'] for employee in employees],\n",
        "    documents=employee_documents,\n",
        "    metadatas=[{\n",
        "        \"name\": employee[\"name\"],\n",
        "        \"department\": employee[\"department\"],\n",
        "        \"role\": employee[\"role\"],\n",
        "        \"experience\": employee[\"experience\"],\n",
        "        \"location\": employee[\"location\"],\n",
        "        \"employment_type\": employee[\"employment_type\"]\n",
        "    } for employee in employees]\n",
        ")"
      ],
      "metadata": {
        "colab": {
          "base_uri": "https://localhost:8080/"
        },
        "id": "XO4FFxfJUR8E",
        "outputId": "e0f919c0-6bba-4795-b9f8-76e1a1162be5"
      },
      "execution_count": 20,
      "outputs": [
        {
          "output_type": "stream",
          "name": "stderr",
          "text": [
            "ERROR:chromadb.telemetry.product.posthog:Failed to send telemetry event CollectionAddEvent: capture() takes 1 positional argument but 3 were given\n"
          ]
        }
      ]
    },
    {
      "cell_type": "code",
      "source": [
        "all_item = collection.get()\n",
        "print(len(all_item['ids']))"
      ],
      "metadata": {
        "colab": {
          "base_uri": "https://localhost:8080/"
        },
        "id": "AMGo0RyUUxRm",
        "outputId": "89597c43-54c3-49ee-d700-8d0b1560074b"
      },
      "execution_count": 21,
      "outputs": [
        {
          "output_type": "stream",
          "name": "stderr",
          "text": [
            "ERROR:chromadb.telemetry.product.posthog:Failed to send telemetry event CollectionGetEvent: capture() takes 1 positional argument but 3 were given\n"
          ]
        },
        {
          "output_type": "stream",
          "name": "stdout",
          "text": [
            "15\n"
          ]
        }
      ]
    },
    {
      "cell_type": "code",
      "source": [
        "all_item['ids'][1]"
      ],
      "metadata": {
        "id": "b-IWc2r4U7Ec",
        "colab": {
          "base_uri": "https://localhost:8080/",
          "height": 36
        },
        "outputId": "389522ba-3700-4eb6-8279-be18ea48efc6"
      },
      "execution_count": 23,
      "outputs": [
        {
          "output_type": "execute_result",
          "data": {
            "text/plain": [
              "'employee_2'"
            ],
            "application/vnd.google.colaboratory.intrinsic+json": {
              "type": "string"
            }
          },
          "metadata": {},
          "execution_count": 23
        }
      ]
    },
    {
      "cell_type": "code",
      "source": [
        "def adv_search(collection,all_item,k):\n",
        "  try:\n",
        "    pass\n",
        "  except Exception as e:\n",
        "    print(e)"
      ],
      "metadata": {
        "id": "PwuUe1jHiBd0"
      },
      "execution_count": 24,
      "outputs": []
    },
    {
      "cell_type": "markdown",
      "source": [
        "Query1: search for python developers with web dev experience"
      ],
      "metadata": {
        "id": "XFcb57ych1tM"
      }
    },
    {
      "cell_type": "code",
      "source": [
        "query='Search for python developers with web dev experience'\n",
        "results =collection.query(\n",
        "    query_texts=[query],\n",
        "    n_results=2\n",
        ")\n",
        "for index , (ids,document,distance) in enumerate(zip(results['ids'][0], results['documents'][0], results['distances'][0])):\n",
        "  metadata = results['metadatas'][0][index]\n",
        "  print(f\"  {index+1}. {metadata['name']} , Distance: {distance:.4f}\")\n",
        "  print(f\"     Role: {metadata['role']}, Department: {metadata['department']}\")\n",
        "  print(f\"     Document: {document[:100]}...\")\n"
      ],
      "metadata": {
        "colab": {
          "base_uri": "https://localhost:8080/"
        },
        "id": "dY00475hh1Ur",
        "outputId": "209f97fd-ac03-4fa1-d26a-fa36f923f588"
      },
      "execution_count": 29,
      "outputs": [
        {
          "output_type": "stream",
          "name": "stdout",
          "text": [
            "  1. John Doe , Distance: 0.5010\n",
            "     Role: Software Engineer, Department: Engineering\n",
            "     Document: Software Engineer with 5 years of experience in Engineering. Skills: Python, JavaScript, React, Node...\n",
            "  2. Matthew Garcia , Distance: 0.5775\n",
            "     Role: Junior Software Engineer, Department: Engineering\n",
            "     Document: Junior Software Engineer with 3 years of experience in Engineering. Skills: JavaScript, HTML/CSS, ba...\n"
          ]
        }
      ]
    },
    {
      "cell_type": "markdown",
      "source": [
        "Query2:  Search for leadership roles in java\n"
      ],
      "metadata": {
        "id": "Fnn1WTuSkPo9"
      }
    },
    {
      "cell_type": "code",
      "source": [
        "query='team leader with experience in java'\n",
        "results =collection.query(\n",
        "    query_texts=[query],\n",
        "    n_results=2\n",
        ")\n",
        "for index , (ids,document,distance) in enumerate(zip(results['ids'][0], results['documents'][0], results['distances'][0])):\n",
        "  metadata = results['metadatas'][0][index]\n",
        "  print(f\"  {index+1}. {metadata['name']} , Distance: {distance:.4f}\")\n",
        "  print(f\"     Role: {metadata['role']}, Department: {metadata['department']}\")\n",
        "  print(f\"     Document: {document[:100]}...\")\n"
      ],
      "metadata": {
        "colab": {
          "base_uri": "https://localhost:8080/"
        },
        "id": "-vKWsNtDhsYy",
        "outputId": "da3c5db6-dec7-4e10-a70f-f7c8780802b6"
      },
      "execution_count": 30,
      "outputs": [
        {
          "output_type": "stream",
          "name": "stdout",
          "text": [
            "  1. Michael Brown , Distance: 0.6318\n",
            "     Role: Senior Software Engineer, Department: Engineering\n",
            "     Document: Senior Software Engineer with 12 years of experience in Engineering. Skills: Java, Spring Boot, micr...\n",
            "  2. Chris Evans , Distance: 0.6647\n",
            "     Role: Senior Architect, Department: Engineering\n",
            "     Document: Senior Architect with 20 years of experience in Engineering. Skills: System design, distributed syst...\n"
          ]
        }
      ]
    },
    {
      "cell_type": "markdown",
      "source": [
        "Query3:Find experienced Python developers in specific locations"
      ],
      "metadata": {
        "id": "meUwJBAykoOv"
      }
    },
    {
      "cell_type": "code",
      "source": [
        "query_text = \"senior Python developer full-stack\"\n",
        "results = collection.query(\n",
        "    query_texts=[query_text],\n",
        "    n_results=5,\n",
        "    where={\n",
        "        \"$and\": [\n",
        "            {\"experience\": {\"$gte\": 8}},\n",
        "            {\"location\": {\"$in\": [\"San Francisco\", \"New York\", \"Seattle\"]}}\n",
        "        ]\n",
        "    }\n",
        ")\n",
        "print(f\"Found {len(results['ids'][0])} matching employees:\")\n",
        "for i, (doc_id, document, distance) in enumerate(zip(results['ids'][0], results['documents'][0], results['distances'][0])):\n",
        "    metadata = results['metadatas'][0][i]\n",
        "    print(f\"  {i+1}. {metadata['name']} ({doc_id}) - Distance: {distance:.4f}\")\n",
        "    print(f\"     {metadata['role']} in {metadata['location']} ({metadata['experience']} years)\")\n",
        "    print(f\"     Document snippet: {document[:80]}...\")"
      ],
      "metadata": {
        "colab": {
          "base_uri": "https://localhost:8080/"
        },
        "id": "g_nPrHgIkYGh",
        "outputId": "e02872c4-b85e-4733-ede9-5ef2716f719d"
      },
      "execution_count": 31,
      "outputs": [
        {
          "output_type": "stream",
          "name": "stdout",
          "text": [
            "Found 4 matching employees:\n",
            "  1. Michael Brown (employee_4) - Distance: 0.6726\n",
            "     Senior Software Engineer in San Francisco (12 years)\n",
            "     Document snippet: Senior Software Engineer with 12 years of experience in Engineering. Skills: Jav...\n",
            "  2. Chris Evans (employee_8) - Distance: 0.7537\n",
            "     Senior Architect in New York (20 years)\n",
            "     Document snippet: Senior Architect with 20 years of experience in Engineering. Skills: System desi...\n",
            "  3. David Lee (employee_6) - Distance: 0.8344\n",
            "     Engineering Manager in Seattle (15 years)\n",
            "     Document snippet: Engineering Manager with 15 years of experience in Engineering. Skills: Team lea...\n",
            "  4. Olivia Moore (employee_15) - Distance: 0.8761\n",
            "     Principal Engineer in San Francisco (12 years)\n",
            "     Document snippet: Principal Engineer with 12 years of experience in Engineering. Skills: Technical...\n"
          ]
        }
      ]
    },
    {
      "cell_type": "code",
      "source": [],
      "metadata": {
        "id": "IZOtQtUGk0Os"
      },
      "execution_count": null,
      "outputs": []
    }
  ]
}