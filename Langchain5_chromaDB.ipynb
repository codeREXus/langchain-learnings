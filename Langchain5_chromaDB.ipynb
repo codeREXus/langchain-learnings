{
  "nbformat": 4,
  "nbformat_minor": 0,
  "metadata": {
    "colab": {
      "provenance": [],
      "authorship_tag": "ABX9TyOy8NDVwkN9uHF2wiF4mVln",
      "include_colab_link": true
    },
    "kernelspec": {
      "name": "python3",
      "display_name": "Python 3"
    },
    "language_info": {
      "name": "python"
    }
  },
  "cells": [
    {
      "cell_type": "markdown",
      "metadata": {
        "id": "view-in-github",
        "colab_type": "text"
      },
      "source": [
        "<a href=\"https://colab.research.google.com/github/codeREXus/langchain-learnings/blob/main/Langchain5_chromaDB.ipynb\" target=\"_parent\"><img src=\"https://colab.research.google.com/assets/colab-badge.svg\" alt=\"Open In Colab\"/></a>"
      ]
    },
    {
      "cell_type": "code",
      "execution_count": 1,
      "metadata": {
        "colab": {
          "base_uri": "https://localhost:8080/"
        },
        "id": "q9iFC9xuallf",
        "outputId": "95be4f9e-bec8-4904-f718-01e7175e040c"
      },
      "outputs": [
        {
          "output_type": "stream",
          "name": "stdout",
          "text": [
            "\u001b[?25l     \u001b[90m━━━━━━━━━━━━━━━━━━━━━━━━━━━━━━━━━━━━━━━━\u001b[0m \u001b[32m0.0/67.3 kB\u001b[0m \u001b[31m?\u001b[0m eta \u001b[36m-:--:--\u001b[0m\r\u001b[2K     \u001b[90m━━━━━━━━━━━━━━━━━━━━━━━━━━━━━━━━━━━━━━━━\u001b[0m \u001b[32m67.3/67.3 kB\u001b[0m \u001b[31m2.8 MB/s\u001b[0m eta \u001b[36m0:00:00\u001b[0m\n",
            "\u001b[?25h  Installing build dependencies ... \u001b[?25l\u001b[?25hdone\n",
            "  Getting requirements to build wheel ... \u001b[?25l\u001b[?25hdone\n",
            "  Preparing metadata (pyproject.toml) ... \u001b[?25l\u001b[?25hdone\n",
            "\u001b[2K   \u001b[90m━━━━━━━━━━━━━━━━━━━━━━━━━━━━━━━━━━━━━━━━\u001b[0m \u001b[32m19.8/19.8 MB\u001b[0m \u001b[31m61.2 MB/s\u001b[0m eta \u001b[36m0:00:00\u001b[0m\n",
            "\u001b[2K   \u001b[90m━━━━━━━━━━━━━━━━━━━━━━━━━━━━━━━━━━━━━━━━\u001b[0m \u001b[32m278.2/278.2 kB\u001b[0m \u001b[31m14.7 MB/s\u001b[0m eta \u001b[36m0:00:00\u001b[0m\n",
            "\u001b[2K   \u001b[90m━━━━━━━━━━━━━━━━━━━━━━━━━━━━━━━━━━━━━━━━\u001b[0m \u001b[32m1.9/1.9 MB\u001b[0m \u001b[31m48.5 MB/s\u001b[0m eta \u001b[36m0:00:00\u001b[0m\n",
            "\u001b[2K   \u001b[90m━━━━━━━━━━━━━━━━━━━━━━━━━━━━━━━━━━━━━━━━\u001b[0m \u001b[32m103.3/103.3 kB\u001b[0m \u001b[31m7.7 MB/s\u001b[0m eta \u001b[36m0:00:00\u001b[0m\n",
            "\u001b[2K   \u001b[90m━━━━━━━━━━━━━━━━━━━━━━━━━━━━━━━━━━━━━━━━\u001b[0m \u001b[32m17.3/17.3 MB\u001b[0m \u001b[31m52.7 MB/s\u001b[0m eta \u001b[36m0:00:00\u001b[0m\n",
            "\u001b[2K   \u001b[90m━━━━━━━━━━━━━━━━━━━━━━━━━━━━━━━━━━━━━━━━\u001b[0m \u001b[32m72.5/72.5 kB\u001b[0m \u001b[31m3.6 MB/s\u001b[0m eta \u001b[36m0:00:00\u001b[0m\n",
            "\u001b[2K   \u001b[90m━━━━━━━━━━━━━━━━━━━━━━━━━━━━━━━━━━━━━━━━\u001b[0m \u001b[32m105.4/105.4 kB\u001b[0m \u001b[31m6.4 MB/s\u001b[0m eta \u001b[36m0:00:00\u001b[0m\n",
            "\u001b[2K   \u001b[90m━━━━━━━━━━━━━━━━━━━━━━━━━━━━━━━━━━━━━━━━\u001b[0m \u001b[32m71.6/71.6 kB\u001b[0m \u001b[31m3.9 MB/s\u001b[0m eta \u001b[36m0:00:00\u001b[0m\n",
            "\u001b[2K   \u001b[90m━━━━━━━━━━━━━━━━━━━━━━━━━━━━━━━━━━━━━━━━\u001b[0m \u001b[32m510.8/510.8 kB\u001b[0m \u001b[31m27.6 MB/s\u001b[0m eta \u001b[36m0:00:00\u001b[0m\n",
            "\u001b[2K   \u001b[90m━━━━━━━━━━━━━━━━━━━━━━━━━━━━━━━━━━━━━━━━\u001b[0m \u001b[32m4.7/4.7 MB\u001b[0m \u001b[31m61.6 MB/s\u001b[0m eta \u001b[36m0:00:00\u001b[0m\n",
            "\u001b[2K   \u001b[90m━━━━━━━━━━━━━━━━━━━━━━━━━━━━━━━━━━━━━━━━\u001b[0m \u001b[32m452.2/452.2 kB\u001b[0m \u001b[31m27.0 MB/s\u001b[0m eta \u001b[36m0:00:00\u001b[0m\n",
            "\u001b[2K   \u001b[90m━━━━━━━━━━━━━━━━━━━━━━━━━━━━━━━━━━━━━━━━\u001b[0m \u001b[32m46.0/46.0 kB\u001b[0m \u001b[31m2.6 MB/s\u001b[0m eta \u001b[36m0:00:00\u001b[0m\n",
            "\u001b[2K   \u001b[90m━━━━━━━━━━━━━━━━━━━━━━━━━━━━━━━━━━━━━━━━\u001b[0m \u001b[32m86.8/86.8 kB\u001b[0m \u001b[31m5.0 MB/s\u001b[0m eta \u001b[36m0:00:00\u001b[0m\n",
            "\u001b[?25h  Building wheel for pypika (pyproject.toml) ... \u001b[?25l\u001b[?25hdone\n"
          ]
        }
      ],
      "source": [
        "!pip install -q chromaDB"
      ]
    },
    {
      "cell_type": "code",
      "source": [
        "import chromadb\n",
        "from chromadb.utils import embedding_functions\n",
        "\n",
        "ef= embedding_functions.SentenceTransformerEmbeddingFunction(\n",
        "    model_name =\"all-MiniLm-L6-V2\"\n",
        ")"
      ],
      "metadata": {
        "id": "B7ioeXtDasXe"
      },
      "execution_count": null,
      "outputs": []
    },
    {
      "cell_type": "code",
      "source": [
        "client= chromadb.Client()\n",
        "collection = client.create_collection(\n",
        "    name='document',\n",
        "    embedding_function=ef,\n",
        "    metadata={\"description\": \"Used to demo filtering in ChromaDB\"}\n",
        ")\n",
        "print(f\"created collections{collection}\")"
      ],
      "metadata": {
        "colab": {
          "base_uri": "https://localhost:8080/"
        },
        "id": "CP_LG6F_ci9Y",
        "outputId": "56dd4ac4-7b68-4cd6-a03b-25ffc86aebdc"
      },
      "execution_count": 3,
      "outputs": [
        {
          "output_type": "stream",
          "name": "stdout",
          "text": [
            "created collectionsCollection(name=document)\n"
          ]
        }
      ]
    },
    {
      "cell_type": "markdown",
      "source": [
        "###adding docs"
      ],
      "metadata": {
        "id": "q_wzLcLje960"
      }
    },
    {
      "cell_type": "code",
      "source": [
        "collection.add(\n",
        "    documents=[\n",
        "        \"This is a document about LangChain\",\n",
        "        \"This is a reading about LlamaIndex\",\n",
        "        \"This is a book about Python\",\n",
        "        \"This is a document about pandas\",\n",
        "        \"This is another document about LangChain\"\n",
        "    ],\n",
        "    metadatas=[\n",
        "        {\"source\": \"langchain.com\", \"version\": 0.1},\n",
        "        {\"source\": \"llamaindex.ai\", \"version\": 0.2},\n",
        "        {\"source\": \"python.org\", \"version\": 0.3},\n",
        "        {\"source\": \"pandas.pydata.org\", \"version\": 0.4},\n",
        "        {\"source\": \"langchain.com\", \"version\": 0.5},\n",
        "    ],\n",
        "    ids=[\"id1\", \"id2\", \"id3\", \"id4\", \"id5\"]\n",
        ")"
      ],
      "metadata": {
        "id": "kI8Fz3cze9Q1"
      },
      "execution_count": 4,
      "outputs": []
    },
    {
      "cell_type": "code",
      "source": [
        "collection.get()"
      ],
      "metadata": {
        "colab": {
          "base_uri": "https://localhost:8080/"
        },
        "id": "owTmD-m3el6y",
        "outputId": "87f4f3c1-62df-4a72-cf1c-f3fafc45ea67"
      },
      "execution_count": 5,
      "outputs": [
        {
          "output_type": "execute_result",
          "data": {
            "text/plain": [
              "{'ids': ['id1', 'id2', 'id3', 'id4', 'id5'],\n",
              " 'embeddings': None,\n",
              " 'documents': ['This is a document about LangChain',\n",
              "  'This is a reading about LlamaIndex',\n",
              "  'This is a book about Python',\n",
              "  'This is a document about pandas',\n",
              "  'This is another document about LangChain'],\n",
              " 'uris': None,\n",
              " 'included': ['metadatas', 'documents'],\n",
              " 'data': None,\n",
              " 'metadatas': [{'version': 0.1, 'source': 'langchain.com'},\n",
              "  {'version': 0.2, 'source': 'llamaindex.ai'},\n",
              "  {'version': 0.3, 'source': 'python.org'},\n",
              "  {'source': 'pandas.pydata.org', 'version': 0.4},\n",
              "  {'version': 0.5, 'source': 'langchain.com'}]}"
            ]
          },
          "metadata": {},
          "execution_count": 5
        }
      ]
    },
    {
      "cell_type": "code",
      "source": [
        "collection.get(\n",
        "    where={\"source\": \"langchain.com\"}\n",
        ")"
      ],
      "metadata": {
        "colab": {
          "base_uri": "https://localhost:8080/"
        },
        "id": "RC8uKwXPfL0n",
        "outputId": "916890e4-fc11-4593-eb22-55b9c29ceb4b"
      },
      "execution_count": 6,
      "outputs": [
        {
          "output_type": "execute_result",
          "data": {
            "text/plain": [
              "{'ids': ['id1', 'id5'],\n",
              " 'embeddings': None,\n",
              " 'documents': ['This is a document about LangChain',\n",
              "  'This is another document about LangChain'],\n",
              " 'uris': None,\n",
              " 'included': ['metadatas', 'documents'],\n",
              " 'data': None,\n",
              " 'metadatas': [{'source': 'langchain.com', 'version': 0.1},\n",
              "  {'version': 0.5, 'source': 'langchain.com'}]}"
            ]
          },
          "metadata": {},
          "execution_count": 6
        }
      ]
    },
    {
      "cell_type": "code",
      "source": [
        "collection.delete(\n",
        "    where={\"source\": \"python.org\"},\n",
        "    ids='id3'\n",
        ")"
      ],
      "metadata": {
        "id": "O1FCy_H1fY2u"
      },
      "execution_count": 7,
      "outputs": []
    },
    {
      "cell_type": "code",
      "source": [
        "collection.get()"
      ],
      "metadata": {
        "colab": {
          "base_uri": "https://localhost:8080/"
        },
        "id": "pgavDt4Dfkp8",
        "outputId": "fd1bdcb1-d2f9-4fcb-9d14-5a901e009e4c"
      },
      "execution_count": 8,
      "outputs": [
        {
          "output_type": "execute_result",
          "data": {
            "text/plain": [
              "{'ids': ['id1', 'id2', 'id4', 'id5'],\n",
              " 'embeddings': None,\n",
              " 'documents': ['This is a document about LangChain',\n",
              "  'This is a reading about LlamaIndex',\n",
              "  'This is a document about pandas',\n",
              "  'This is another document about LangChain'],\n",
              " 'uris': None,\n",
              " 'included': ['metadatas', 'documents'],\n",
              " 'data': None,\n",
              " 'metadatas': [{'version': 0.1, 'source': 'langchain.com'},\n",
              "  {'source': 'llamaindex.ai', 'version': 0.2},\n",
              "  {'version': 0.4, 'source': 'pandas.pydata.org'},\n",
              "  {'source': 'langchain.com', 'version': 0.5}]}"
            ]
          },
          "metadata": {},
          "execution_count": 8
        }
      ]
    },
    {
      "cell_type": "markdown",
      "source": [
        "###chaining filters"
      ],
      "metadata": {
        "id": "maq_GYkLg2pJ"
      }
    },
    {
      "cell_type": "code",
      "source": [
        "collection.get(\n",
        "    where={\n",
        "        \"$and\":[\n",
        "            {\"source\": {\"$in\": [\"langchain.com\", \"llamaindex.ai\"]}},\n",
        "            {\"version\": {\"$lte\": 0.3}}\n",
        "        ]\n",
        "    }\n",
        ")"
      ],
      "metadata": {
        "colab": {
          "base_uri": "https://localhost:8080/"
        },
        "id": "icGiLyHcf6q8",
        "outputId": "3bf2e5fa-bec0-4566-8393-d91e024ebc46"
      },
      "execution_count": 9,
      "outputs": [
        {
          "output_type": "execute_result",
          "data": {
            "text/plain": [
              "{'ids': ['id1', 'id2'],\n",
              " 'embeddings': None,\n",
              " 'documents': ['This is a document about LangChain',\n",
              "  'This is a reading about LlamaIndex'],\n",
              " 'uris': None,\n",
              " 'included': ['metadatas', 'documents'],\n",
              " 'data': None,\n",
              " 'metadatas': [{'source': 'langchain.com', 'version': 0.1},\n",
              "  {'source': 'llamaindex.ai', 'version': 0.2}]}"
            ]
          },
          "metadata": {},
          "execution_count": 9
        }
      ]
    },
    {
      "cell_type": "markdown",
      "source": [
        "##filtering based on document content\n"
      ],
      "metadata": {
        "id": "xRCh6DPAh6L-"
      }
    },
    {
      "cell_type": "code",
      "source": [
        "collection.get(\n",
        "    where_document={\n",
        "        \"$or\":[\n",
        "            {\"$contains\":\"Python\"},\n",
        "            {\"$contains\":\"pandas\"}\n",
        "        ]\n",
        "    }\n",
        ")"
      ],
      "metadata": {
        "colab": {
          "base_uri": "https://localhost:8080/"
        },
        "id": "vJV_uLD_hBdh",
        "outputId": "1f9ed97f-b094-47d0-edf0-0281f1e33c45"
      },
      "execution_count": 10,
      "outputs": [
        {
          "output_type": "execute_result",
          "data": {
            "text/plain": [
              "{'ids': ['id4'],\n",
              " 'embeddings': None,\n",
              " 'documents': ['This is a document about pandas'],\n",
              " 'uris': None,\n",
              " 'included': ['metadatas', 'documents'],\n",
              " 'data': None,\n",
              " 'metadatas': [{'source': 'pandas.pydata.org', 'version': 0.4}]}"
            ]
          },
          "metadata": {},
          "execution_count": 10
        }
      ]
    },
    {
      "cell_type": "markdown",
      "source": [
        "##combining meta data filter as well as document filters"
      ],
      "metadata": {
        "id": "yree_2LOjiEz"
      }
    },
    {
      "cell_type": "code",
      "source": [
        "collection.get(\n",
        "     where={\"version\": {\"$gt\": 0.1}},\n",
        "    where_document={\n",
        "        \"$or\": [\n",
        "            {\"$contains\": \"LangChain\"},\n",
        "            {\"$contains\": \"Python\"}\n",
        "        ]\n",
        "    }\n",
        ")"
      ],
      "metadata": {
        "colab": {
          "base_uri": "https://localhost:8080/"
        },
        "id": "mbmlV-KniFtm",
        "outputId": "eb63dd12-893d-4b47-b715-bc81df22d3b7"
      },
      "execution_count": 11,
      "outputs": [
        {
          "output_type": "execute_result",
          "data": {
            "text/plain": [
              "{'ids': ['id5'],\n",
              " 'embeddings': None,\n",
              " 'documents': ['This is another document about LangChain'],\n",
              " 'uris': None,\n",
              " 'included': ['metadatas', 'documents'],\n",
              " 'data': None,\n",
              " 'metadatas': [{'version': 0.5, 'source': 'langchain.com'}]}"
            ]
          },
          "metadata": {},
          "execution_count": 11
        }
      ]
    },
    {
      "cell_type": "markdown",
      "source": [
        "#HNSW - Hierarchical navigable small world\n"
      ],
      "metadata": {
        "id": "F3b-eGKvUCYg"
      }
    },
    {
      "cell_type": "code",
      "source": [
        "client = chromadb.Client()\n",
        "collection = client.create_collection(\n",
        "    name='ew_document',\n",
        "    embedding_function=ef,\n",
        "    metadata={'tpoic':'query testing'},\n",
        "    configuration={\n",
        "        \"hnsw\":{\n",
        "            \"space\":\"ip\",\n",
        "            \"ef_search\":100,\n",
        "            \"ef_construction\":100,\n",
        "            \"max_neighbors\":16\n",
        "        }\n",
        "    }\n",
        ")"
      ],
      "metadata": {
        "id": "dZJg-RkfjqK8"
      },
      "execution_count": 21,
      "outputs": []
    },
    {
      "cell_type": "code",
      "source": [
        "collection.add(\n",
        "    documents=[\n",
        "        \"Giant pandas are a bear species that lives in mountainous areas.\",\n",
        "        \"A pandas DataFrame stores two-dimensional, tabular data\",\n",
        "        \"I think everyone agrees that pandas are some of the cutest animals on the planet\",\n",
        "        \"A direct comparison between pandas and polars indicates that polars is a more efficient library than pandas.\",\n",
        "    ],\n",
        "    metadatas=[\n",
        "        {\"topic\": \"animals\"},\n",
        "        {\"topic\": \"data analysis\"},\n",
        "        {\"topic\": \"animals\"},\n",
        "        {\"topic\": \"data analysis\"},\n",
        "    ],\n",
        "    ids=[\"id1\", \"id2\", \"id3\", \"id4\"]\n",
        ")"
      ],
      "metadata": {
        "id": "CUmN-MKlU2L2"
      },
      "execution_count": 22,
      "outputs": []
    },
    {
      "cell_type": "code",
      "source": [
        "collection.query(\n",
        "    query_texts=[\"cats\"],\n",
        "    n_results=10,\n",
        ")\n"
      ],
      "metadata": {
        "colab": {
          "base_uri": "https://localhost:8080/"
        },
        "id": "-9eIb6n7VMQU",
        "outputId": "f8e270c5-20eb-4ad6-cb47-8cca44303933"
      },
      "execution_count": 23,
      "outputs": [
        {
          "output_type": "execute_result",
          "data": {
            "text/plain": [
              "{'ids': [['id3', 'id1', 'id2', 'id4']],\n",
              " 'embeddings': None,\n",
              " 'documents': [['I think everyone agrees that pandas are some of the cutest animals on the planet',\n",
              "   'Giant pandas are a bear species that lives in mountainous areas.',\n",
              "   'A pandas DataFrame stores two-dimensional, tabular data',\n",
              "   'A direct comparison between pandas and polars indicates that polars is a more efficient library than pandas.']],\n",
              " 'uris': None,\n",
              " 'included': ['metadatas', 'documents', 'distances'],\n",
              " 'data': None,\n",
              " 'metadatas': [[{'topic': 'animals'},\n",
              "   {'topic': 'animals'},\n",
              "   {'topic': 'data analysis'},\n",
              "   {'topic': 'data analysis'}]],\n",
              " 'distances': [[0.738014280796051,\n",
              "   0.8351748585700989,\n",
              "   0.8634340763092041,\n",
              "   0.9299634695053101]]}"
            ]
          },
          "metadata": {},
          "execution_count": 23
        }
      ]
    },
    {
      "cell_type": "code",
      "source": [
        "collection.query(\n",
        "    query_texts=[\"polar bear\"],\n",
        "    n_results=1,\n",
        ")"
      ],
      "metadata": {
        "colab": {
          "base_uri": "https://localhost:8080/"
        },
        "id": "YMsV5A09ZOq8",
        "outputId": "1a48c7b7-dc4a-46e3-9783-b4502b6ca5eb"
      },
      "execution_count": 24,
      "outputs": [
        {
          "output_type": "execute_result",
          "data": {
            "text/plain": [
              "{'ids': [['id4']],\n",
              " 'embeddings': None,\n",
              " 'documents': [['A direct comparison between pandas and polars indicates that polars is a more efficient library than pandas.']],\n",
              " 'uris': None,\n",
              " 'included': ['metadatas', 'documents', 'distances'],\n",
              " 'data': None,\n",
              " 'metadatas': [[{'topic': 'data analysis'}]],\n",
              " 'distances': [[0.624370276927948]]}"
            ]
          },
          "metadata": {},
          "execution_count": 24
        }
      ]
    },
    {
      "cell_type": "markdown",
      "source": [
        "this fails as it refers to the python framework polar not the animal , this can be corrected by either changing the model or providing filters such as the metadata filter"
      ],
      "metadata": {
        "id": "YSWIIdQre-9l"
      }
    },
    {
      "cell_type": "code",
      "source": [
        "collection.query(\n",
        "    query_texts=[\"polar bear\"],\n",
        "    n_results=1,\n",
        "    where={'topic': 'animals'}\n",
        ")"
      ],
      "metadata": {
        "colab": {
          "base_uri": "https://localhost:8080/"
        },
        "id": "IbCbIrGUe8si",
        "outputId": "4f6a53b2-0489-4f05-9b10-9860b5d719c7"
      },
      "execution_count": 25,
      "outputs": [
        {
          "output_type": "execute_result",
          "data": {
            "text/plain": [
              "{'ids': [['id1']],\n",
              " 'embeddings': None,\n",
              " 'documents': [['Giant pandas are a bear species that lives in mountainous areas.']],\n",
              " 'uris': None,\n",
              " 'included': ['metadatas', 'documents', 'distances'],\n",
              " 'data': None,\n",
              " 'metadatas': [[{'topic': 'animals'}]],\n",
              " 'distances': [[0.7096826434135437]]}"
            ]
          },
          "metadata": {},
          "execution_count": 25
        }
      ]
    },
    {
      "cell_type": "markdown",
      "source": [
        "You could use the document filter as well, it's suggested to use both metadata as well as document filtering"
      ],
      "metadata": {
        "id": "CNegjUOsfTgS"
      }
    },
    {
      "cell_type": "code",
      "source": [
        "collection.query(\n",
        "    query_texts=[\"polar bear\"],\n",
        "    n_results=1,\n",
        "    where={'topic': 'animals'},\n",
        "    where_document={'$not_contains': 'library'}\n",
        ")"
      ],
      "metadata": {
        "colab": {
          "base_uri": "https://localhost:8080/"
        },
        "id": "qSGnS30JfJzm",
        "outputId": "2be9d695-42b8-473d-8ab2-ef3bb844a4ee"
      },
      "execution_count": 26,
      "outputs": [
        {
          "output_type": "execute_result",
          "data": {
            "text/plain": [
              "{'ids': [['id1']],\n",
              " 'embeddings': None,\n",
              " 'documents': [['Giant pandas are a bear species that lives in mountainous areas.']],\n",
              " 'uris': None,\n",
              " 'included': ['metadatas', 'documents', 'distances'],\n",
              " 'data': None,\n",
              " 'metadatas': [[{'topic': 'animals'}]],\n",
              " 'distances': [[0.7096826434135437]]}"
            ]
          },
          "metadata": {},
          "execution_count": 26
        }
      ]
    },
    {
      "cell_type": "code",
      "source": [],
      "metadata": {
        "id": "UP8ErZgmfnP_"
      },
      "execution_count": null,
      "outputs": []
    }
  ]
}