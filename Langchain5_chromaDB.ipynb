{
  "nbformat": 4,
  "nbformat_minor": 0,
  "metadata": {
    "colab": {
      "provenance": [],
      "authorship_tag": "ABX9TyM8OXAkfotThxx6jQf4y24m",
      "include_colab_link": true
    },
    "kernelspec": {
      "name": "python3",
      "display_name": "Python 3"
    },
    "language_info": {
      "name": "python"
    }
  },
  "cells": [
    {
      "cell_type": "markdown",
      "metadata": {
        "id": "view-in-github",
        "colab_type": "text"
      },
      "source": [
        "<a href=\"https://colab.research.google.com/github/codeREXus/langchain-learnings/blob/main/Langchain5_chromaDB.ipynb\" target=\"_parent\"><img src=\"https://colab.research.google.com/assets/colab-badge.svg\" alt=\"Open In Colab\"/></a>"
      ]
    },
    {
      "cell_type": "code",
      "execution_count": 1,
      "metadata": {
        "colab": {
          "base_uri": "https://localhost:8080/"
        },
        "id": "q9iFC9xuallf",
        "outputId": "47873ff9-17b5-40f9-c407-5cf628b598f0"
      },
      "outputs": [
        {
          "output_type": "stream",
          "name": "stdout",
          "text": [
            "\u001b[?25l     \u001b[90m━━━━━━━━━━━━━━━━━━━━━━━━━━━━━━━━━━━━━━━━\u001b[0m \u001b[32m0.0/67.3 kB\u001b[0m \u001b[31m?\u001b[0m eta \u001b[36m-:--:--\u001b[0m\r\u001b[2K     \u001b[90m━━━━━━━━━━━━━━━━━━━━━━━━━━━━━━━━━━━━━━━━\u001b[0m \u001b[32m67.3/67.3 kB\u001b[0m \u001b[31m2.8 MB/s\u001b[0m eta \u001b[36m0:00:00\u001b[0m\n",
            "\u001b[?25h  Installing build dependencies ... \u001b[?25l\u001b[?25hdone\n",
            "  Getting requirements to build wheel ... \u001b[?25l\u001b[?25hdone\n",
            "  Preparing metadata (pyproject.toml) ... \u001b[?25l\u001b[?25hdone\n",
            "\u001b[2K   \u001b[90m━━━━━━━━━━━━━━━━━━━━━━━━━━━━━━━━━━━━━━━━\u001b[0m \u001b[32m19.8/19.8 MB\u001b[0m \u001b[31m111.3 MB/s\u001b[0m eta \u001b[36m0:00:00\u001b[0m\n",
            "\u001b[2K   \u001b[90m━━━━━━━━━━━━━━━━━━━━━━━━━━━━━━━━━━━━━━━━\u001b[0m \u001b[32m278.2/278.2 kB\u001b[0m \u001b[31m19.3 MB/s\u001b[0m eta \u001b[36m0:00:00\u001b[0m\n",
            "\u001b[2K   \u001b[90m━━━━━━━━━━━━━━━━━━━━━━━━━━━━━━━━━━━━━━━━\u001b[0m \u001b[32m1.9/1.9 MB\u001b[0m \u001b[31m73.4 MB/s\u001b[0m eta \u001b[36m0:00:00\u001b[0m\n",
            "\u001b[2K   \u001b[90m━━━━━━━━━━━━━━━━━━━━━━━━━━━━━━━━━━━━━━━━\u001b[0m \u001b[32m103.3/103.3 kB\u001b[0m \u001b[31m7.2 MB/s\u001b[0m eta \u001b[36m0:00:00\u001b[0m\n",
            "\u001b[2K   \u001b[90m━━━━━━━━━━━━━━━━━━━━━━━━━━━━━━━━━━━━━━━━\u001b[0m \u001b[32m17.3/17.3 MB\u001b[0m \u001b[31m108.1 MB/s\u001b[0m eta \u001b[36m0:00:00\u001b[0m\n",
            "\u001b[2K   \u001b[90m━━━━━━━━━━━━━━━━━━━━━━━━━━━━━━━━━━━━━━━━\u001b[0m \u001b[32m72.5/72.5 kB\u001b[0m \u001b[31m4.4 MB/s\u001b[0m eta \u001b[36m0:00:00\u001b[0m\n",
            "\u001b[2K   \u001b[90m━━━━━━━━━━━━━━━━━━━━━━━━━━━━━━━━━━━━━━━━\u001b[0m \u001b[32m105.4/105.4 kB\u001b[0m \u001b[31m6.6 MB/s\u001b[0m eta \u001b[36m0:00:00\u001b[0m\n",
            "\u001b[2K   \u001b[90m━━━━━━━━━━━━━━━━━━━━━━━━━━━━━━━━━━━━━━━━\u001b[0m \u001b[32m71.6/71.6 kB\u001b[0m \u001b[31m4.9 MB/s\u001b[0m eta \u001b[36m0:00:00\u001b[0m\n",
            "\u001b[2K   \u001b[90m━━━━━━━━━━━━━━━━━━━━━━━━━━━━━━━━━━━━━━━━\u001b[0m \u001b[32m510.8/510.8 kB\u001b[0m \u001b[31m27.3 MB/s\u001b[0m eta \u001b[36m0:00:00\u001b[0m\n",
            "\u001b[2K   \u001b[90m━━━━━━━━━━━━━━━━━━━━━━━━━━━━━━━━━━━━━━━━\u001b[0m \u001b[32m4.7/4.7 MB\u001b[0m \u001b[31m63.2 MB/s\u001b[0m eta \u001b[36m0:00:00\u001b[0m\n",
            "\u001b[2K   \u001b[90m━━━━━━━━━━━━━━━━━━━━━━━━━━━━━━━━━━━━━━━━\u001b[0m \u001b[32m452.2/452.2 kB\u001b[0m \u001b[31m22.8 MB/s\u001b[0m eta \u001b[36m0:00:00\u001b[0m\n",
            "\u001b[2K   \u001b[90m━━━━━━━━━━━━━━━━━━━━━━━━━━━━━━━━━━━━━━━━\u001b[0m \u001b[32m46.0/46.0 kB\u001b[0m \u001b[31m1.7 MB/s\u001b[0m eta \u001b[36m0:00:00\u001b[0m\n",
            "\u001b[2K   \u001b[90m━━━━━━━━━━━━━━━━━━━━━━━━━━━━━━━━━━━━━━━━\u001b[0m \u001b[32m86.8/86.8 kB\u001b[0m \u001b[31m4.6 MB/s\u001b[0m eta \u001b[36m0:00:00\u001b[0m\n",
            "\u001b[?25h  Building wheel for pypika (pyproject.toml) ... \u001b[?25l\u001b[?25hdone\n"
          ]
        }
      ],
      "source": [
        "!pip install -q chromaDB"
      ]
    },
    {
      "cell_type": "code",
      "source": [
        "import chromadb\n",
        "from chromadb.utils import embedding_functions\n",
        "\n",
        "ef= embedding_functions.SentenceTransformerEmbeddingFunction(\n",
        "    model_name =\"all-MiniLm-L6-V2\"\n",
        ")"
      ],
      "metadata": {
        "id": "B7ioeXtDasXe"
      },
      "execution_count": null,
      "outputs": []
    },
    {
      "cell_type": "code",
      "source": [
        "client= chromadb.Client()\n",
        "collection = client.create_collection(\n",
        "    name='document',\n",
        "    embedding_function=ef,\n",
        "    metadata={\"description\": \"Used to demo filtering in ChromaDB\"}\n",
        ")\n",
        "print(f\"created collections{collection}\")"
      ],
      "metadata": {
        "colab": {
          "base_uri": "https://localhost:8080/"
        },
        "id": "CP_LG6F_ci9Y",
        "outputId": "c7caa1d4-e310-4264-d3a2-90770a19ef6c"
      },
      "execution_count": 8,
      "outputs": [
        {
          "output_type": "stream",
          "name": "stdout",
          "text": [
            "created collectionsCollection(name=document)\n"
          ]
        }
      ]
    },
    {
      "cell_type": "markdown",
      "source": [
        "###adding docs"
      ],
      "metadata": {
        "id": "q_wzLcLje960"
      }
    },
    {
      "cell_type": "code",
      "source": [
        "collection.add(\n",
        "    documents=[\n",
        "        \"This is a document about LangChain\",\n",
        "        \"This is a reading about LlamaIndex\",\n",
        "        \"This is a book about Python\",\n",
        "        \"This is a document about pandas\",\n",
        "        \"This is another document about LangChain\"\n",
        "    ],\n",
        "    metadatas=[\n",
        "        {\"source\": \"langchain.com\", \"version\": 0.1},\n",
        "        {\"source\": \"llamaindex.ai\", \"version\": 0.2},\n",
        "        {\"source\": \"python.org\", \"version\": 0.3},\n",
        "        {\"source\": \"pandas.pydata.org\", \"version\": 0.4},\n",
        "        {\"source\": \"langchain.com\", \"version\": 0.5},\n",
        "    ],\n",
        "    ids=[\"id1\", \"id2\", \"id3\", \"id4\", \"id5\"]\n",
        ")"
      ],
      "metadata": {
        "id": "kI8Fz3cze9Q1"
      },
      "execution_count": 23,
      "outputs": []
    },
    {
      "cell_type": "code",
      "source": [
        "collection.get()"
      ],
      "metadata": {
        "colab": {
          "base_uri": "https://localhost:8080/"
        },
        "id": "owTmD-m3el6y",
        "outputId": "573b2c07-8d3f-47ed-b166-c5e2f3d453bd"
      },
      "execution_count": 24,
      "outputs": [
        {
          "output_type": "execute_result",
          "data": {
            "text/plain": [
              "{'ids': ['id1', 'id2', 'id4', 'id5', 'id3'],\n",
              " 'embeddings': None,\n",
              " 'documents': ['This is a document about LangChain',\n",
              "  'This is a reading about LlamaIndex',\n",
              "  'This is a document about pandas',\n",
              "  'This is another document about LangChain',\n",
              "  'This is a book about Python'],\n",
              " 'uris': None,\n",
              " 'included': ['metadatas', 'documents'],\n",
              " 'data': None,\n",
              " 'metadatas': [{'version': 0.1, 'source': 'langchain.com'},\n",
              "  {'source': 'llamaindex.ai', 'version': 0.2},\n",
              "  {'source': 'pandas.pydata.org', 'version': 0.4},\n",
              "  {'source': 'langchain.com', 'version': 0.5},\n",
              "  {'version': 0.3, 'source': 'python.org'}]}"
            ]
          },
          "metadata": {},
          "execution_count": 24
        }
      ]
    },
    {
      "cell_type": "code",
      "source": [
        "collection.get(\n",
        "    where={\"source\": \"langchain.com\"}\n",
        ")"
      ],
      "metadata": {
        "colab": {
          "base_uri": "https://localhost:8080/"
        },
        "id": "RC8uKwXPfL0n",
        "outputId": "1692cd5b-c70c-4709-f78c-c89531f1cf96"
      },
      "execution_count": 25,
      "outputs": [
        {
          "output_type": "execute_result",
          "data": {
            "text/plain": [
              "{'ids': ['id1', 'id5'],\n",
              " 'embeddings': None,\n",
              " 'documents': ['This is a document about LangChain',\n",
              "  'This is another document about LangChain'],\n",
              " 'uris': None,\n",
              " 'included': ['metadatas', 'documents'],\n",
              " 'data': None,\n",
              " 'metadatas': [{'source': 'langchain.com', 'version': 0.1},\n",
              "  {'version': 0.5, 'source': 'langchain.com'}]}"
            ]
          },
          "metadata": {},
          "execution_count": 25
        }
      ]
    },
    {
      "cell_type": "code",
      "source": [
        "collection.delete(\n",
        "    where={\"source\": \"python.org\"},\n",
        "    ids='id3'\n",
        ")"
      ],
      "metadata": {
        "id": "O1FCy_H1fY2u"
      },
      "execution_count": 21,
      "outputs": []
    },
    {
      "cell_type": "code",
      "source": [
        "collection.get()"
      ],
      "metadata": {
        "colab": {
          "base_uri": "https://localhost:8080/"
        },
        "id": "pgavDt4Dfkp8",
        "outputId": "032a85ef-48e5-4a63-841f-218832f731f0"
      },
      "execution_count": 31,
      "outputs": [
        {
          "output_type": "execute_result",
          "data": {
            "text/plain": [
              "{'ids': ['id1', 'id2', 'id4', 'id5', 'id3'],\n",
              " 'embeddings': None,\n",
              " 'documents': ['This is a document about LangChain',\n",
              "  'This is a reading about LlamaIndex',\n",
              "  'This is a document about pandas',\n",
              "  'This is another document about LangChain',\n",
              "  'This is a book about Python'],\n",
              " 'uris': None,\n",
              " 'included': ['metadatas', 'documents'],\n",
              " 'data': None,\n",
              " 'metadatas': [{'source': 'langchain.com', 'version': 0.1},\n",
              "  {'source': 'llamaindex.ai', 'version': 0.2},\n",
              "  {'source': 'pandas.pydata.org', 'version': 0.4},\n",
              "  {'version': 0.5, 'source': 'langchain.com'},\n",
              "  {'version': 0.3, 'source': 'python.org'}]}"
            ]
          },
          "metadata": {},
          "execution_count": 31
        }
      ]
    },
    {
      "cell_type": "markdown",
      "source": [
        "###chaining filters"
      ],
      "metadata": {
        "id": "maq_GYkLg2pJ"
      }
    },
    {
      "cell_type": "code",
      "source": [
        "collection.get(\n",
        "    where={\n",
        "        \"$and\":[\n",
        "            {\"source\": {\"$in\": [\"langchain.com\", \"llamaindex.ai\"]}},\n",
        "            {\"version\": {\"$lte\": 0.3}}\n",
        "        ]\n",
        "    }\n",
        ")"
      ],
      "metadata": {
        "colab": {
          "base_uri": "https://localhost:8080/"
        },
        "id": "icGiLyHcf6q8",
        "outputId": "66920ad7-0eef-4838-8951-6a8a333368c6"
      },
      "execution_count": 33,
      "outputs": [
        {
          "output_type": "execute_result",
          "data": {
            "text/plain": [
              "{'ids': ['id1', 'id2'],\n",
              " 'embeddings': None,\n",
              " 'documents': ['This is a document about LangChain',\n",
              "  'This is a reading about LlamaIndex'],\n",
              " 'uris': None,\n",
              " 'included': ['metadatas', 'documents'],\n",
              " 'data': None,\n",
              " 'metadatas': [{'source': 'langchain.com', 'version': 0.1},\n",
              "  {'source': 'llamaindex.ai', 'version': 0.2}]}"
            ]
          },
          "metadata": {},
          "execution_count": 33
        }
      ]
    },
    {
      "cell_type": "markdown",
      "source": [
        "##filtering based on document content\n"
      ],
      "metadata": {
        "id": "xRCh6DPAh6L-"
      }
    },
    {
      "cell_type": "code",
      "source": [
        "collection.get(\n",
        "    where_document={\n",
        "        \"$or\":[\n",
        "            {\"$contains\":\"Python\"},\n",
        "            {\"$contains\":\"pandas\"}\n",
        "        ]\n",
        "    }\n",
        ")"
      ],
      "metadata": {
        "colab": {
          "base_uri": "https://localhost:8080/"
        },
        "id": "vJV_uLD_hBdh",
        "outputId": "ced1bb41-6c5f-493e-89eb-8c019a676272"
      },
      "execution_count": 37,
      "outputs": [
        {
          "output_type": "execute_result",
          "data": {
            "text/plain": [
              "{'ids': ['id4', 'id3'],\n",
              " 'embeddings': None,\n",
              " 'documents': ['This is a document about pandas',\n",
              "  'This is a book about Python'],\n",
              " 'uris': None,\n",
              " 'included': ['metadatas', 'documents'],\n",
              " 'data': None,\n",
              " 'metadatas': [{'source': 'pandas.pydata.org', 'version': 0.4},\n",
              "  {'version': 0.3, 'source': 'python.org'}]}"
            ]
          },
          "metadata": {},
          "execution_count": 37
        }
      ]
    },
    {
      "cell_type": "markdown",
      "source": [
        "##combining meta data filter as well as document filters"
      ],
      "metadata": {
        "id": "yree_2LOjiEz"
      }
    },
    {
      "cell_type": "code",
      "source": [
        "collection.get(\n",
        "     where={\"version\": {\"$gt\": 0.1}},\n",
        "    where_document={\n",
        "        \"$or\": [\n",
        "            {\"$contains\": \"LangChain\"},\n",
        "            {\"$contains\": \"Python\"}\n",
        "        ]\n",
        "    }\n",
        ")"
      ],
      "metadata": {
        "colab": {
          "base_uri": "https://localhost:8080/"
        },
        "id": "mbmlV-KniFtm",
        "outputId": "fc24bc26-5270-4838-fa0c-74dfdeca5819"
      },
      "execution_count": 38,
      "outputs": [
        {
          "output_type": "execute_result",
          "data": {
            "text/plain": [
              "{'ids': ['id5', 'id3'],\n",
              " 'embeddings': None,\n",
              " 'documents': ['This is another document about LangChain',\n",
              "  'This is a book about Python'],\n",
              " 'uris': None,\n",
              " 'included': ['metadatas', 'documents'],\n",
              " 'data': None,\n",
              " 'metadatas': [{'source': 'langchain.com', 'version': 0.5},\n",
              "  {'source': 'python.org', 'version': 0.3}]}"
            ]
          },
          "metadata": {},
          "execution_count": 38
        }
      ]
    },
    {
      "cell_type": "code",
      "source": [],
      "metadata": {
        "id": "dZJg-RkfjqK8"
      },
      "execution_count": null,
      "outputs": []
    }
  ]
}