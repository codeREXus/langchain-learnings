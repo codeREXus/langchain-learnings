{
  "nbformat": 4,
  "nbformat_minor": 0,
  "metadata": {
    "colab": {
      "provenance": [],
      "authorship_tag": "ABX9TyOJjlf05B/YiyRIzksGi25k",
      "include_colab_link": true
    },
    "kernelspec": {
      "name": "python3",
      "display_name": "Python 3"
    },
    "language_info": {
      "name": "python"
    }
  },
  "cells": [
    {
      "cell_type": "markdown",
      "metadata": {
        "id": "view-in-github",
        "colab_type": "text"
      },
      "source": [
        "<a href=\"https://colab.research.google.com/github/codeREXus/langchain-learnings/blob/main/Langchain5_chromaDB_2.ipynb\" target=\"_parent\"><img src=\"https://colab.research.google.com/assets/colab-badge.svg\" alt=\"Open In Colab\"/></a>"
      ]
    },
    {
      "cell_type": "code",
      "execution_count": 1,
      "metadata": {
        "id": "4B2HBosxhABs"
      },
      "outputs": [],
      "source": [
        "%%capture\n",
        "!pip install chromadb==1.0.12\n",
        "!pip install sentence-transformers==4.1.0"
      ]
    },
    {
      "cell_type": "code",
      "source": [
        "import chromadb\n",
        "from chromadb.utils import embedding_functions\n",
        "\n",
        "ef= embedding_functions.SentenceTransformerEmbeddingFunction(\n",
        "    model_name =\"all-MiniLm-L6-V2\"\n",
        ")"
      ],
      "metadata": {
        "id": "_hoxvuBNhOe5"
      },
      "execution_count": 25,
      "outputs": []
    },
    {
      "cell_type": "code",
      "source": [
        "client=chromadb.Client()\n",
        "collection_name= 'my_grocery'"
      ],
      "metadata": {
        "colab": {
          "base_uri": "https://localhost:8080/"
        },
        "id": "nZsLv_MpiEhl",
        "outputId": "97ea8c0e-0170-4e28-f268-e736040e3a20"
      },
      "execution_count": 34,
      "outputs": [
        {
          "output_type": "stream",
          "name": "stderr",
          "text": [
            "ERROR:chromadb.telemetry.product.posthog:Failed to send telemetry event ClientStartEvent: capture() takes 1 positional argument but 3 were given\n"
          ]
        }
      ]
    },
    {
      "cell_type": "code",
      "source": [
        "def main():\n",
        "  try:\n",
        "    global collection\n",
        "    collection = client.create_collection(\n",
        "    name=collection_name,\n",
        "    metadata={\"description\": \"A collection for storing grocery data\"},\n",
        "    configuration={\n",
        "        \"hnsw\": {\"space\": \"cosine\"},\n",
        "        \"embedding_function\": ef,\n",
        "        'ef_search':60,\n",
        "        'ef_construction':120\n",
        "        }\n",
        "    )\n",
        "    print(f\"Collection created: {collection.name}\")\n",
        "\n",
        "\n",
        "    texts = [\n",
        "    'fresh red apples',\n",
        "    'organic bananas',\n",
        "    'ripe mangoes',\n",
        "    'whole wheat bread',\n",
        "    'farm-fresh eggs',\n",
        "    'natural yogurt',\n",
        "    'frozen vegetables',\n",
        "    'grass-fed beef',\n",
        "    'free-range chicken',\n",
        "    'fresh salmon fillet',\n",
        "    'aromatic coffee beans',\n",
        "    'pure honey',\n",
        "    'golden apple',\n",
        "    'red fruit'\n",
        "    ]\n",
        "\n",
        "\n",
        "    ids = [f\"food_{index + 1}\" for index, _ in enumerate(texts)]\n",
        "\n",
        "    collection.add(\n",
        "    documents=texts,\n",
        "    metadatas=[{'source':'grocery', 'catgory':'food'} for _ in texts],\n",
        "    ids= ids\n",
        "    )\n",
        "    all_item= collection.get()\n",
        "\n",
        "\n",
        "    sm_search(collection, all_item)\n",
        "  except Exception as e:\n",
        "    print(f\"Error {e}\")"
      ],
      "metadata": {
        "id": "vdXpE3c3j5aH"
      },
      "execution_count": 42,
      "outputs": []
    },
    {
      "cell_type": "code",
      "source": [
        "def sm_search(collection, all_item):\n",
        "  try:\n",
        "    global query_term\n",
        "    query_term=['carrot','potato']\n",
        "    if isinstance(query_term, str):\n",
        "        query_term = [query_term]\n",
        "\n",
        "    results = collection.query(\n",
        "    query_texts=query_term,\n",
        "    n_results=3\n",
        "    )\n",
        "    print(f\"Query results for '{query_term}':\")\n",
        "    print(results['distances'])\n",
        "\n",
        "  #   if not results or not results['ids'] or len(results['ids'][0]) == 0:\n",
        "  #     print(f'No documents found similar to \"{query_term}\"')\n",
        "  #     return\n",
        "\n",
        "  #   print(f'Top 3 similar documents to \"{query_term}\":')\n",
        "\n",
        "  #   for q in range(len(query_term)):\n",
        "  #     print(f'Top 3 similar documents to \"{query_term[q]}\":')\n",
        "  #     # Access the nested arrays in 'results[\"ids\"]' and 'results[\"distances\"]'\n",
        "  #     for i in range(min(3, len(results['ids'][q]))):\n",
        "  #         doc_id = results['ids'][q][i]  # Get ID from 'ids' array\n",
        "  #         score = results['distances'][q][i]  # Get score from 'distances' array\n",
        "  #         # Retrieve text data from the results\n",
        "  #         text = results['documents'][q][i]\n",
        "  #         if not text:\n",
        "  #             print(f' - ID: {doc_id}, Text: \"Text not available\", Score: {score:.4f}')\n",
        "  #         else:\n",
        "  #             print(f' - ID: {doc_id}, Text: \"{text}\", Score: {score:.4f}')\n",
        "  # except Exception as error:\n",
        "  #     print(f\"Error in similarity search: {error}\")\n",
        "  # except Exception as error :\n",
        "  #   print(f\"Error in similarity search: {error}\")\n",
        "  except Exception as e:\n",
        "    print(f\"Error {e}\")"
      ],
      "metadata": {
        "id": "ZnrWCkWelmRh"
      },
      "execution_count": 79,
      "outputs": []
    },
    {
      "cell_type": "code",
      "source": [
        "client.delete_collection('my_grocery')"
      ],
      "metadata": {
        "id": "ds74OTrAPTTj"
      },
      "execution_count": 80,
      "outputs": []
    },
    {
      "cell_type": "code",
      "source": [
        "if __name__ == \"__main__\":\n",
        "  main()"
      ],
      "metadata": {
        "colab": {
          "base_uri": "https://localhost:8080/"
        },
        "id": "J23UkoWMO6Nd",
        "outputId": "50bf48d3-60aa-4b12-e5e3-b2e8fae9708c"
      },
      "execution_count": 81,
      "outputs": [
        {
          "output_type": "stream",
          "name": "stderr",
          "text": [
            "ERROR:chromadb.telemetry.product.posthog:Failed to send telemetry event ClientCreateCollectionEvent: capture() takes 1 positional argument but 3 were given\n",
            "ERROR:chromadb.telemetry.product.posthog:Failed to send telemetry event CollectionAddEvent: capture() takes 1 positional argument but 3 were given\n",
            "ERROR:chromadb.telemetry.product.posthog:Failed to send telemetry event CollectionGetEvent: capture() takes 1 positional argument but 3 were given\n",
            "ERROR:chromadb.telemetry.product.posthog:Failed to send telemetry event CollectionQueryEvent: capture() takes 1 positional argument but 3 were given\n"
          ]
        },
        {
          "output_type": "stream",
          "name": "stdout",
          "text": [
            "Collection created: my_grocery\n",
            "Query results for '['carrot', 'potato']':\n",
            "[[0.4914088845252991, 0.5408385396003723, 0.5603157877922058], [0.5108054876327515, 0.560166597366333, 0.5936388373374939]]\n"
          ]
        }
      ]
    },
    {
      "cell_type": "code",
      "source": [],
      "metadata": {
        "id": "9IEpJlUWPOec"
      },
      "execution_count": 45,
      "outputs": []
    }
  ]
}